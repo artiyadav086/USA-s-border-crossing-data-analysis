{
 "cells": [
  {
   "cell_type": "code",
   "execution_count": 1,
   "id": "b6fd114c",
   "metadata": {},
   "outputs": [],
   "source": [
    "import pandas as pd"
   ]
  },
  {
   "cell_type": "code",
   "execution_count": 2,
   "id": "2b90e68f",
   "metadata": {},
   "outputs": [],
   "source": [
    "data = pd.read_csv('Border_Crossing_Entry_Data.csv')"
   ]
  },
  {
   "cell_type": "code",
   "execution_count": 3,
   "id": "8932fb99",
   "metadata": {},
   "outputs": [
    {
     "data": {
      "text/html": [
       "<div>\n",
       "<style scoped>\n",
       "    .dataframe tbody tr th:only-of-type {\n",
       "        vertical-align: middle;\n",
       "    }\n",
       "\n",
       "    .dataframe tbody tr th {\n",
       "        vertical-align: top;\n",
       "    }\n",
       "\n",
       "    .dataframe thead th {\n",
       "        text-align: right;\n",
       "    }\n",
       "</style>\n",
       "<table border=\"1\" class=\"dataframe\">\n",
       "  <thead>\n",
       "    <tr style=\"text-align: right;\">\n",
       "      <th></th>\n",
       "      <th>PortName</th>\n",
       "      <th>State</th>\n",
       "      <th>PortCode</th>\n",
       "      <th>Border</th>\n",
       "      <th>Date</th>\n",
       "      <th>Measure</th>\n",
       "      <th>Value</th>\n",
       "    </tr>\n",
       "  </thead>\n",
       "  <tbody>\n",
       "    <tr>\n",
       "      <th>0</th>\n",
       "      <td>Alcan</td>\n",
       "      <td>Alaska</td>\n",
       "      <td>3104</td>\n",
       "      <td>US-Canada Border</td>\n",
       "      <td>May-22</td>\n",
       "      <td>Personal Vehicle Passengers</td>\n",
       "      <td>8612</td>\n",
       "    </tr>\n",
       "    <tr>\n",
       "      <th>1</th>\n",
       "      <td>Alcan</td>\n",
       "      <td>Alaska</td>\n",
       "      <td>3104</td>\n",
       "      <td>US-Canada Border</td>\n",
       "      <td>May-22</td>\n",
       "      <td>Personal Vehicles</td>\n",
       "      <td>5252</td>\n",
       "    </tr>\n",
       "    <tr>\n",
       "      <th>2</th>\n",
       "      <td>Alcan</td>\n",
       "      <td>Alaska</td>\n",
       "      <td>3104</td>\n",
       "      <td>US-Canada Border</td>\n",
       "      <td>May-22</td>\n",
       "      <td>Truck Containers Empty</td>\n",
       "      <td>339</td>\n",
       "    </tr>\n",
       "    <tr>\n",
       "      <th>3</th>\n",
       "      <td>Alcan</td>\n",
       "      <td>Alaska</td>\n",
       "      <td>3104</td>\n",
       "      <td>US-Canada Border</td>\n",
       "      <td>May-22</td>\n",
       "      <td>Truck Containers Loaded</td>\n",
       "      <td>128</td>\n",
       "    </tr>\n",
       "    <tr>\n",
       "      <th>4</th>\n",
       "      <td>Alcan</td>\n",
       "      <td>Alaska</td>\n",
       "      <td>3104</td>\n",
       "      <td>US-Canada Border</td>\n",
       "      <td>May-22</td>\n",
       "      <td>Trucks</td>\n",
       "      <td>465</td>\n",
       "    </tr>\n",
       "    <tr>\n",
       "      <th>5</th>\n",
       "      <td>Alexandria Bay</td>\n",
       "      <td>New York</td>\n",
       "      <td>708</td>\n",
       "      <td>US-Canada Border</td>\n",
       "      <td>May-22</td>\n",
       "      <td>Buses</td>\n",
       "      <td>39</td>\n",
       "    </tr>\n",
       "    <tr>\n",
       "      <th>6</th>\n",
       "      <td>Alexandria Bay</td>\n",
       "      <td>New York</td>\n",
       "      <td>708</td>\n",
       "      <td>US-Canada Border</td>\n",
       "      <td>May-22</td>\n",
       "      <td>Bus Passengers</td>\n",
       "      <td>1122</td>\n",
       "    </tr>\n",
       "    <tr>\n",
       "      <th>7</th>\n",
       "      <td>Alexandria Bay</td>\n",
       "      <td>New York</td>\n",
       "      <td>708</td>\n",
       "      <td>US-Canada Border</td>\n",
       "      <td>May-22</td>\n",
       "      <td>Personal Vehicle Passengers</td>\n",
       "      <td>56451</td>\n",
       "    </tr>\n",
       "    <tr>\n",
       "      <th>8</th>\n",
       "      <td>Alexandria Bay</td>\n",
       "      <td>New York</td>\n",
       "      <td>708</td>\n",
       "      <td>US-Canada Border</td>\n",
       "      <td>May-22</td>\n",
       "      <td>Personal Vehicles</td>\n",
       "      <td>27983</td>\n",
       "    </tr>\n",
       "    <tr>\n",
       "      <th>9</th>\n",
       "      <td>Alexandria Bay</td>\n",
       "      <td>New York</td>\n",
       "      <td>708</td>\n",
       "      <td>US-Canada Border</td>\n",
       "      <td>May-22</td>\n",
       "      <td>Truck Containers Empty</td>\n",
       "      <td>4990</td>\n",
       "    </tr>\n",
       "  </tbody>\n",
       "</table>\n",
       "</div>"
      ],
      "text/plain": [
       "         PortName     State  PortCode            Border    Date  \\\n",
       "0           Alcan    Alaska      3104  US-Canada Border  May-22   \n",
       "1           Alcan    Alaska      3104  US-Canada Border  May-22   \n",
       "2           Alcan    Alaska      3104  US-Canada Border  May-22   \n",
       "3           Alcan    Alaska      3104  US-Canada Border  May-22   \n",
       "4           Alcan    Alaska      3104  US-Canada Border  May-22   \n",
       "5  Alexandria Bay  New York       708  US-Canada Border  May-22   \n",
       "6  Alexandria Bay  New York       708  US-Canada Border  May-22   \n",
       "7  Alexandria Bay  New York       708  US-Canada Border  May-22   \n",
       "8  Alexandria Bay  New York       708  US-Canada Border  May-22   \n",
       "9  Alexandria Bay  New York       708  US-Canada Border  May-22   \n",
       "\n",
       "                       Measure  Value  \n",
       "0  Personal Vehicle Passengers   8612  \n",
       "1            Personal Vehicles   5252  \n",
       "2       Truck Containers Empty    339  \n",
       "3      Truck Containers Loaded    128  \n",
       "4                       Trucks    465  \n",
       "5                        Buses     39  \n",
       "6               Bus Passengers   1122  \n",
       "7  Personal Vehicle Passengers  56451  \n",
       "8            Personal Vehicles  27983  \n",
       "9       Truck Containers Empty   4990  "
      ]
     },
     "execution_count": 3,
     "metadata": {},
     "output_type": "execute_result"
    }
   ],
   "source": [
    "data.head(10)"
   ]
  },
  {
   "cell_type": "code",
   "execution_count": 4,
   "id": "bfb9cd20",
   "metadata": {},
   "outputs": [
    {
     "data": {
      "text/html": [
       "<div>\n",
       "<style scoped>\n",
       "    .dataframe tbody tr th:only-of-type {\n",
       "        vertical-align: middle;\n",
       "    }\n",
       "\n",
       "    .dataframe tbody tr th {\n",
       "        vertical-align: top;\n",
       "    }\n",
       "\n",
       "    .dataframe thead th {\n",
       "        text-align: right;\n",
       "    }\n",
       "</style>\n",
       "<table border=\"1\" class=\"dataframe\">\n",
       "  <thead>\n",
       "    <tr style=\"text-align: right;\">\n",
       "      <th></th>\n",
       "      <th>PortName</th>\n",
       "      <th>State</th>\n",
       "      <th>PortCode</th>\n",
       "      <th>Border</th>\n",
       "      <th>Date</th>\n",
       "      <th>Measure</th>\n",
       "      <th>Value</th>\n",
       "    </tr>\n",
       "  </thead>\n",
       "  <tbody>\n",
       "    <tr>\n",
       "      <th>375021</th>\n",
       "      <td>Whitlash</td>\n",
       "      <td>Montana</td>\n",
       "      <td>3321</td>\n",
       "      <td>US-Canada Border</td>\n",
       "      <td>Jun-22</td>\n",
       "      <td>Personal Vehicles</td>\n",
       "      <td>20</td>\n",
       "    </tr>\n",
       "    <tr>\n",
       "      <th>375022</th>\n",
       "      <td>Wildhorse</td>\n",
       "      <td>Montana</td>\n",
       "      <td>3323</td>\n",
       "      <td>US-Canada Border</td>\n",
       "      <td>Jun-22</td>\n",
       "      <td>Personal Vehicle Passengers</td>\n",
       "      <td>1625</td>\n",
       "    </tr>\n",
       "    <tr>\n",
       "      <th>375023</th>\n",
       "      <td>Wildhorse</td>\n",
       "      <td>Montana</td>\n",
       "      <td>3323</td>\n",
       "      <td>US-Canada Border</td>\n",
       "      <td>Jun-22</td>\n",
       "      <td>Personal Vehicles</td>\n",
       "      <td>816</td>\n",
       "    </tr>\n",
       "    <tr>\n",
       "      <th>375024</th>\n",
       "      <td>Wildhorse</td>\n",
       "      <td>Montana</td>\n",
       "      <td>3323</td>\n",
       "      <td>US-Canada Border</td>\n",
       "      <td>Jun-22</td>\n",
       "      <td>Trucks</td>\n",
       "      <td>22</td>\n",
       "    </tr>\n",
       "    <tr>\n",
       "      <th>375025</th>\n",
       "      <td>Willow Creek</td>\n",
       "      <td>Montana</td>\n",
       "      <td>3325</td>\n",
       "      <td>US-Canada Border</td>\n",
       "      <td>Jun-22</td>\n",
       "      <td>Personal Vehicle Passengers</td>\n",
       "      <td>374</td>\n",
       "    </tr>\n",
       "    <tr>\n",
       "      <th>375026</th>\n",
       "      <td>Willow Creek</td>\n",
       "      <td>Montana</td>\n",
       "      <td>3325</td>\n",
       "      <td>US-Canada Border</td>\n",
       "      <td>Jun-22</td>\n",
       "      <td>Personal Vehicles</td>\n",
       "      <td>174</td>\n",
       "    </tr>\n",
       "    <tr>\n",
       "      <th>375027</th>\n",
       "      <td>Ysleta</td>\n",
       "      <td>Texas</td>\n",
       "      <td>2401</td>\n",
       "      <td>US-Mexico Border</td>\n",
       "      <td>Jun-22</td>\n",
       "      <td>Pedestrians</td>\n",
       "      <td>125507</td>\n",
       "    </tr>\n",
       "    <tr>\n",
       "      <th>375028</th>\n",
       "      <td>Ysleta</td>\n",
       "      <td>Texas</td>\n",
       "      <td>2401</td>\n",
       "      <td>US-Mexico Border</td>\n",
       "      <td>Jun-22</td>\n",
       "      <td>Personal Vehicle Passengers</td>\n",
       "      <td>454316</td>\n",
       "    </tr>\n",
       "    <tr>\n",
       "      <th>375029</th>\n",
       "      <td>Ysleta</td>\n",
       "      <td>Texas</td>\n",
       "      <td>2401</td>\n",
       "      <td>US-Mexico Border</td>\n",
       "      <td>Jun-22</td>\n",
       "      <td>Personal Vehicles</td>\n",
       "      <td>265507</td>\n",
       "    </tr>\n",
       "    <tr>\n",
       "      <th>375030</th>\n",
       "      <td>Ysleta</td>\n",
       "      <td>Texas</td>\n",
       "      <td>2401</td>\n",
       "      <td>US-Mexico Border</td>\n",
       "      <td>Jun-22</td>\n",
       "      <td>Trucks</td>\n",
       "      <td>56011</td>\n",
       "    </tr>\n",
       "  </tbody>\n",
       "</table>\n",
       "</div>"
      ],
      "text/plain": [
       "            PortName    State  PortCode            Border    Date  \\\n",
       "375021      Whitlash  Montana      3321  US-Canada Border  Jun-22   \n",
       "375022     Wildhorse  Montana      3323  US-Canada Border  Jun-22   \n",
       "375023     Wildhorse  Montana      3323  US-Canada Border  Jun-22   \n",
       "375024     Wildhorse  Montana      3323  US-Canada Border  Jun-22   \n",
       "375025  Willow Creek  Montana      3325  US-Canada Border  Jun-22   \n",
       "375026  Willow Creek  Montana      3325  US-Canada Border  Jun-22   \n",
       "375027        Ysleta    Texas      2401  US-Mexico Border  Jun-22   \n",
       "375028        Ysleta    Texas      2401  US-Mexico Border  Jun-22   \n",
       "375029        Ysleta    Texas      2401  US-Mexico Border  Jun-22   \n",
       "375030        Ysleta    Texas      2401  US-Mexico Border  Jun-22   \n",
       "\n",
       "                            Measure   Value  \n",
       "375021            Personal Vehicles      20  \n",
       "375022  Personal Vehicle Passengers    1625  \n",
       "375023            Personal Vehicles     816  \n",
       "375024                       Trucks      22  \n",
       "375025  Personal Vehicle Passengers     374  \n",
       "375026            Personal Vehicles     174  \n",
       "375027                  Pedestrians  125507  \n",
       "375028  Personal Vehicle Passengers  454316  \n",
       "375029            Personal Vehicles  265507  \n",
       "375030                       Trucks   56011  "
      ]
     },
     "execution_count": 4,
     "metadata": {},
     "output_type": "execute_result"
    }
   ],
   "source": [
    "data.tail(10)"
   ]
  },
  {
   "cell_type": "code",
   "execution_count": 5,
   "id": "06d2c47b",
   "metadata": {},
   "outputs": [
    {
     "name": "stdout",
     "output_type": "stream",
     "text": [
      "<class 'pandas.core.frame.DataFrame'>\n",
      "RangeIndex: 375031 entries, 0 to 375030\n",
      "Data columns (total 7 columns):\n",
      " #   Column    Non-Null Count   Dtype \n",
      "---  ------    --------------   ----- \n",
      " 0   PortName  375031 non-null  object\n",
      " 1   State     375030 non-null  object\n",
      " 2   PortCode  375031 non-null  int64 \n",
      " 3   Border    375031 non-null  object\n",
      " 4   Date      375031 non-null  object\n",
      " 5   Measure   375031 non-null  object\n",
      " 6   Value     375031 non-null  int64 \n",
      "dtypes: int64(2), object(5)\n",
      "memory usage: 20.0+ MB\n"
     ]
    }
   ],
   "source": [
    "data.info()"
   ]
  },
  {
   "cell_type": "code",
   "execution_count": 6,
   "id": "24a95fa0",
   "metadata": {},
   "outputs": [
    {
     "data": {
      "text/html": [
       "<div>\n",
       "<style scoped>\n",
       "    .dataframe tbody tr th:only-of-type {\n",
       "        vertical-align: middle;\n",
       "    }\n",
       "\n",
       "    .dataframe tbody tr th {\n",
       "        vertical-align: top;\n",
       "    }\n",
       "\n",
       "    .dataframe thead th {\n",
       "        text-align: right;\n",
       "    }\n",
       "</style>\n",
       "<table border=\"1\" class=\"dataframe\">\n",
       "  <thead>\n",
       "    <tr style=\"text-align: right;\">\n",
       "      <th></th>\n",
       "      <th>PortCode</th>\n",
       "      <th>Value</th>\n",
       "    </tr>\n",
       "  </thead>\n",
       "  <tbody>\n",
       "    <tr>\n",
       "      <th>count</th>\n",
       "      <td>375031.000000</td>\n",
       "      <td>3.750310e+05</td>\n",
       "    </tr>\n",
       "    <tr>\n",
       "      <th>mean</th>\n",
       "      <td>2450.482067</td>\n",
       "      <td>2.833262e+04</td>\n",
       "    </tr>\n",
       "    <tr>\n",
       "      <th>std</th>\n",
       "      <td>1202.608213</td>\n",
       "      <td>1.499773e+05</td>\n",
       "    </tr>\n",
       "    <tr>\n",
       "      <th>min</th>\n",
       "      <td>101.000000</td>\n",
       "      <td>0.000000e+00</td>\n",
       "    </tr>\n",
       "    <tr>\n",
       "      <th>25%</th>\n",
       "      <td>2304.000000</td>\n",
       "      <td>0.000000e+00</td>\n",
       "    </tr>\n",
       "    <tr>\n",
       "      <th>50%</th>\n",
       "      <td>3012.000000</td>\n",
       "      <td>1.190000e+02</td>\n",
       "    </tr>\n",
       "    <tr>\n",
       "      <th>75%</th>\n",
       "      <td>3401.000000</td>\n",
       "      <td>2.738000e+03</td>\n",
       "    </tr>\n",
       "    <tr>\n",
       "      <th>max</th>\n",
       "      <td>5301.000000</td>\n",
       "      <td>4.447374e+06</td>\n",
       "    </tr>\n",
       "  </tbody>\n",
       "</table>\n",
       "</div>"
      ],
      "text/plain": [
       "            PortCode         Value\n",
       "count  375031.000000  3.750310e+05\n",
       "mean     2450.482067  2.833262e+04\n",
       "std      1202.608213  1.499773e+05\n",
       "min       101.000000  0.000000e+00\n",
       "25%      2304.000000  0.000000e+00\n",
       "50%      3012.000000  1.190000e+02\n",
       "75%      3401.000000  2.738000e+03\n",
       "max      5301.000000  4.447374e+06"
      ]
     },
     "execution_count": 6,
     "metadata": {},
     "output_type": "execute_result"
    }
   ],
   "source": [
    "import pandas as pd\n",
    "import numpy as np\n",
    "data.describe()"
   ]
  },
  {
   "cell_type": "code",
   "execution_count": 7,
   "id": "49356700",
   "metadata": {},
   "outputs": [
    {
     "data": {
      "text/plain": [
       "PortName    0\n",
       "State       1\n",
       "PortCode    0\n",
       "Border      0\n",
       "Date        0\n",
       "Measure     0\n",
       "Value       0\n",
       "dtype: int64"
      ]
     },
     "execution_count": 7,
     "metadata": {},
     "output_type": "execute_result"
    }
   ],
   "source": [
    "data.isna().sum()"
   ]
  },
  {
   "cell_type": "code",
   "execution_count": 8,
   "id": "5482b5bd",
   "metadata": {},
   "outputs": [],
   "source": [
    "bd=data.dropna()"
   ]
  },
  {
   "cell_type": "code",
   "execution_count": 9,
   "id": "098f3a57",
   "metadata": {},
   "outputs": [
    {
     "name": "stdout",
     "output_type": "stream",
     "text": [
      "<class 'pandas.core.frame.DataFrame'>\n",
      "RangeIndex: 375031 entries, 0 to 375030\n",
      "Data columns (total 7 columns):\n",
      " #   Column    Non-Null Count   Dtype \n",
      "---  ------    --------------   ----- \n",
      " 0   PortName  375031 non-null  object\n",
      " 1   State     375030 non-null  object\n",
      " 2   PortCode  375031 non-null  int64 \n",
      " 3   Border    375031 non-null  object\n",
      " 4   Date      375031 non-null  object\n",
      " 5   Measure   375031 non-null  object\n",
      " 6   Value     375031 non-null  int64 \n",
      "dtypes: int64(2), object(5)\n",
      "memory usage: 20.0+ MB\n"
     ]
    }
   ],
   "source": [
    "data.info()"
   ]
  },
  {
   "cell_type": "code",
   "execution_count": 10,
   "id": "5deaefc9",
   "metadata": {},
   "outputs": [
    {
     "data": {
      "text/html": [
       "<div>\n",
       "<style scoped>\n",
       "    .dataframe tbody tr th:only-of-type {\n",
       "        vertical-align: middle;\n",
       "    }\n",
       "\n",
       "    .dataframe tbody tr th {\n",
       "        vertical-align: top;\n",
       "    }\n",
       "\n",
       "    .dataframe thead th {\n",
       "        text-align: right;\n",
       "    }\n",
       "</style>\n",
       "<table border=\"1\" class=\"dataframe\">\n",
       "  <thead>\n",
       "    <tr style=\"text-align: right;\">\n",
       "      <th></th>\n",
       "      <th>PortCode</th>\n",
       "      <th>Value</th>\n",
       "    </tr>\n",
       "  </thead>\n",
       "  <tbody>\n",
       "    <tr>\n",
       "      <th>count</th>\n",
       "      <td>375031.000000</td>\n",
       "      <td>3.750310e+05</td>\n",
       "    </tr>\n",
       "    <tr>\n",
       "      <th>mean</th>\n",
       "      <td>2450.482067</td>\n",
       "      <td>2.833262e+04</td>\n",
       "    </tr>\n",
       "    <tr>\n",
       "      <th>std</th>\n",
       "      <td>1202.608213</td>\n",
       "      <td>1.499773e+05</td>\n",
       "    </tr>\n",
       "    <tr>\n",
       "      <th>min</th>\n",
       "      <td>101.000000</td>\n",
       "      <td>0.000000e+00</td>\n",
       "    </tr>\n",
       "    <tr>\n",
       "      <th>25%</th>\n",
       "      <td>2304.000000</td>\n",
       "      <td>0.000000e+00</td>\n",
       "    </tr>\n",
       "    <tr>\n",
       "      <th>50%</th>\n",
       "      <td>3012.000000</td>\n",
       "      <td>1.190000e+02</td>\n",
       "    </tr>\n",
       "    <tr>\n",
       "      <th>75%</th>\n",
       "      <td>3401.000000</td>\n",
       "      <td>2.738000e+03</td>\n",
       "    </tr>\n",
       "    <tr>\n",
       "      <th>max</th>\n",
       "      <td>5301.000000</td>\n",
       "      <td>4.447374e+06</td>\n",
       "    </tr>\n",
       "  </tbody>\n",
       "</table>\n",
       "</div>"
      ],
      "text/plain": [
       "            PortCode         Value\n",
       "count  375031.000000  3.750310e+05\n",
       "mean     2450.482067  2.833262e+04\n",
       "std      1202.608213  1.499773e+05\n",
       "min       101.000000  0.000000e+00\n",
       "25%      2304.000000  0.000000e+00\n",
       "50%      3012.000000  1.190000e+02\n",
       "75%      3401.000000  2.738000e+03\n",
       "max      5301.000000  4.447374e+06"
      ]
     },
     "execution_count": 10,
     "metadata": {},
     "output_type": "execute_result"
    }
   ],
   "source": [
    "data.describe()"
   ]
  },
  {
   "cell_type": "code",
   "execution_count": 11,
   "id": "ae8d446b",
   "metadata": {},
   "outputs": [
    {
     "data": {
      "text/plain": [
       "PortName    object\n",
       "State       object\n",
       "PortCode     int64\n",
       "Border      object\n",
       "Date        object\n",
       "Measure     object\n",
       "Value        int64\n",
       "dtype: object"
      ]
     },
     "execution_count": 11,
     "metadata": {},
     "output_type": "execute_result"
    }
   ],
   "source": [
    "bd.dtypes"
   ]
  },
  {
   "cell_type": "code",
   "execution_count": 12,
   "id": "030fe428",
   "metadata": {},
   "outputs": [
    {
     "data": {
      "text/plain": [
       "array(['Alcan', 'Alexandria Bay', 'Algonac', 'Ambrose', 'Anacortes',\n",
       "       'Andrade', 'Antler', 'Bar Harbor', 'Baudette', 'Beecher Falls',\n",
       "       'Blaine', 'Boquillas', 'Boundary', 'Bridgewater', 'Brownsville',\n",
       "       'Buffalo Niagara Falls', 'Calais', 'Calexico', 'Calexico East',\n",
       "       'Cape Vincent', 'Carbury', 'Champlain Rouses Point', 'Columbus',\n",
       "       'Cross Border Xpress', 'Dalton Cache', 'Danville', 'Del Bonita',\n",
       "       'Del Rio', 'Derby Line', 'Detroit', 'Douglas', 'Dunseith',\n",
       "       'Eagle Pass', 'Eastport', 'El Paso', 'Everett', 'Ferry',\n",
       "       'Fort Fairfield', 'Fort Kent', 'Fortuna', 'Friday Harbor',\n",
       "       'Frontier', 'Grand Portage', 'Hannah', 'Hansboro', 'Hidalgo',\n",
       "       'Highgate Springs', 'Houlton', 'Houston', 'International Falls',\n",
       "       'Jackman', 'Kenneth G Ward', 'Ketchikan', 'Lancaster', 'Laredo',\n",
       "       'Laurier', 'Limestone', 'Lukeville', 'Madawaska', 'Maida',\n",
       "       'Massena', 'Metaline Falls', 'Morgan', 'Naco', 'Neche',\n",
       "       'Nighthawk', 'Nogales', 'Noonan', 'Northgate', 'Norton', 'Noyes',\n",
       "       'Ogdensburg', 'Opheim', 'Oroville', 'Otay Mesa', 'Pembina',\n",
       "       'Piegan', 'Pinecreek', 'Point Roberts', 'Port Angeles',\n",
       "       'Port Huron', 'Portal', 'Porthill', 'Portland', 'Presidio',\n",
       "       'Progreso', 'Raymond', 'Richford', 'Rio Grande City', 'Roma',\n",
       "       'Roosville', 'Roseau', 'San Diego', 'San Luis', 'San Ysidro',\n",
       "       'Santa Teresa', 'Sarles', 'Sasabe', 'Sault Sainte Marie', 'Scobey',\n",
       "       'Seattle', 'Sherwood', 'Skagway', 'St John', 'Sumas', 'Sweetgrass',\n",
       "       'Tecate', 'Toledo', 'Tornillo', 'Trout River', 'Turner',\n",
       "       'Van Buren', 'Vanceboro', 'Walhalla', 'Warroad', 'Westhope',\n",
       "       'Whitetail', 'Whitlash', 'Wildhorse', 'Willow Creek', 'Ysleta'],\n",
       "      dtype=object)"
      ]
     },
     "execution_count": 12,
     "metadata": {},
     "output_type": "execute_result"
    }
   ],
   "source": [
    "np.unique(bd[\"PortName\"])"
   ]
  },
  {
   "cell_type": "code",
   "execution_count": 13,
   "id": "f73825fb",
   "metadata": {},
   "outputs": [
    {
     "data": {
      "text/plain": [
       "array(['Apr-00', 'Apr-01', 'Apr-02', 'Apr-03', 'Apr-04', 'Apr-05',\n",
       "       'Apr-06', 'Apr-07', 'Apr-08', 'Apr-09', 'Apr-10', 'Apr-11',\n",
       "       'Apr-12', 'Apr-13', 'Apr-14', 'Apr-15', 'Apr-16', 'Apr-17',\n",
       "       'Apr-18', 'Apr-19', 'Apr-20', 'Apr-21', 'Apr-22', 'Apr-96',\n",
       "       'Apr-97', 'Apr-98', 'Apr-99', 'Aug-00', 'Aug-01', 'Aug-02',\n",
       "       'Aug-03', 'Aug-04', 'Aug-05', 'Aug-06', 'Aug-07', 'Aug-08',\n",
       "       'Aug-09', 'Aug-10', 'Aug-11', 'Aug-12', 'Aug-13', 'Aug-14',\n",
       "       'Aug-15', 'Aug-16', 'Aug-17', 'Aug-18', 'Aug-19', 'Aug-20',\n",
       "       'Aug-21', 'Aug-96', 'Aug-97', 'Aug-98', 'Aug-99', 'Dec-00',\n",
       "       'Dec-01', 'Dec-02', 'Dec-03', 'Dec-04', 'Dec-05', 'Dec-06',\n",
       "       'Dec-07', 'Dec-08', 'Dec-09', 'Dec-10', 'Dec-11', 'Dec-12',\n",
       "       'Dec-13', 'Dec-14', 'Dec-15', 'Dec-16', 'Dec-17', 'Dec-18',\n",
       "       'Dec-19', 'Dec-20', 'Dec-21', 'Dec-96', 'Dec-97', 'Dec-98',\n",
       "       'Dec-99', 'Feb-00', 'Feb-01', 'Feb-02', 'Feb-03', 'Feb-04',\n",
       "       'Feb-05', 'Feb-06', 'Feb-07', 'Feb-08', 'Feb-09', 'Feb-10',\n",
       "       'Feb-11', 'Feb-12', 'Feb-13', 'Feb-14', 'Feb-15', 'Feb-16',\n",
       "       'Feb-17', 'Feb-18', 'Feb-19', 'Feb-20', 'Feb-21', 'Feb-22',\n",
       "       'Feb-96', 'Feb-97', 'Feb-98', 'Feb-99', 'Jan-00', 'Jan-01',\n",
       "       'Jan-02', 'Jan-03', 'Jan-04', 'Jan-05', 'Jan-06', 'Jan-07',\n",
       "       'Jan-08', 'Jan-09', 'Jan-10', 'Jan-11', 'Jan-12', 'Jan-13',\n",
       "       'Jan-14', 'Jan-15', 'Jan-16', 'Jan-17', 'Jan-18', 'Jan-19',\n",
       "       'Jan-20', 'Jan-21', 'Jan-22', 'Jan-96', 'Jan-97', 'Jan-98',\n",
       "       'Jan-99', 'Jul-00', 'Jul-01', 'Jul-02', 'Jul-03', 'Jul-04',\n",
       "       'Jul-05', 'Jul-06', 'Jul-07', 'Jul-08', 'Jul-09', 'Jul-10',\n",
       "       'Jul-11', 'Jul-12', 'Jul-13', 'Jul-14', 'Jul-15', 'Jul-16',\n",
       "       'Jul-17', 'Jul-18', 'Jul-19', 'Jul-20', 'Jul-21', 'Jul-96',\n",
       "       'Jul-97', 'Jul-98', 'Jul-99', 'Jun-00', 'Jun-01', 'Jun-02',\n",
       "       'Jun-03', 'Jun-04', 'Jun-05', 'Jun-06', 'Jun-07', 'Jun-08',\n",
       "       'Jun-09', 'Jun-10', 'Jun-11', 'Jun-12', 'Jun-13', 'Jun-14',\n",
       "       'Jun-15', 'Jun-16', 'Jun-17', 'Jun-18', 'Jun-19', 'Jun-20',\n",
       "       'Jun-21', 'Jun-22', 'Jun-96', 'Jun-97', 'Jun-98', 'Jun-99',\n",
       "       'Mar-00', 'Mar-01', 'Mar-02', 'Mar-03', 'Mar-04', 'Mar-05',\n",
       "       'Mar-06', 'Mar-07', 'Mar-08', 'Mar-09', 'Mar-10', 'Mar-11',\n",
       "       'Mar-12', 'Mar-13', 'Mar-14', 'Mar-15', 'Mar-16', 'Mar-17',\n",
       "       'Mar-18', 'Mar-19', 'Mar-20', 'Mar-21', 'Mar-22', 'Mar-96',\n",
       "       'Mar-97', 'Mar-98', 'Mar-99', 'May-00', 'May-01', 'May-02',\n",
       "       'May-03', 'May-04', 'May-05', 'May-06', 'May-07', 'May-08',\n",
       "       'May-09', 'May-10', 'May-11', 'May-12', 'May-13', 'May-14',\n",
       "       'May-15', 'May-16', 'May-17', 'May-18', 'May-19', 'May-20',\n",
       "       'May-21', 'May-22', 'May-96', 'May-97', 'May-98', 'May-99',\n",
       "       'Nov-00', 'Nov-01', 'Nov-02', 'Nov-03', 'Nov-04', 'Nov-05',\n",
       "       'Nov-06', 'Nov-07', 'Nov-08', 'Nov-09', 'Nov-10', 'Nov-11',\n",
       "       'Nov-12', 'Nov-13', 'Nov-14', 'Nov-15', 'Nov-16', 'Nov-17',\n",
       "       'Nov-18', 'Nov-19', 'Nov-20', 'Nov-21', 'Nov-96', 'Nov-97',\n",
       "       'Nov-98', 'Nov-99', 'Oct-00', 'Oct-01', 'Oct-02', 'Oct-03',\n",
       "       'Oct-04', 'Oct-05', 'Oct-06', 'Oct-07', 'Oct-08', 'Oct-09',\n",
       "       'Oct-10', 'Oct-11', 'Oct-12', 'Oct-13', 'Oct-14', 'Oct-15',\n",
       "       'Oct-16', 'Oct-17', 'Oct-18', 'Oct-19', 'Oct-20', 'Oct-21',\n",
       "       'Oct-96', 'Oct-97', 'Oct-98', 'Oct-99', 'Sep-00', 'Sep-01',\n",
       "       'Sep-02', 'Sep-03', 'Sep-04', 'Sep-05', 'Sep-06', 'Sep-07',\n",
       "       'Sep-08', 'Sep-09', 'Sep-10', 'Sep-11', 'Sep-12', 'Sep-13',\n",
       "       'Sep-14', 'Sep-15', 'Sep-16', 'Sep-17', 'Sep-18', 'Sep-19',\n",
       "       'Sep-20', 'Sep-21', 'Sep-96', 'Sep-97', 'Sep-98', 'Sep-99'],\n",
       "      dtype=object)"
      ]
     },
     "execution_count": 13,
     "metadata": {},
     "output_type": "execute_result"
    }
   ],
   "source": [
    "np.unique(bd[\"Date\"])"
   ]
  },
  {
   "cell_type": "code",
   "execution_count": 14,
   "id": "a6030bd9",
   "metadata": {},
   "outputs": [
    {
     "data": {
      "text/plain": [
       "array(['Alaska', 'Arizona', 'California', 'Idaho', 'Maine', 'Michigan',\n",
       "       'Minnesota', 'Montana', 'New Mexico', 'New York', 'North Dakota',\n",
       "       'Ohio', 'Texas', 'Vermont', 'Washington'], dtype=object)"
      ]
     },
     "execution_count": 14,
     "metadata": {},
     "output_type": "execute_result"
    }
   ],
   "source": [
    "np.unique(bd['State'])"
   ]
  },
  {
   "cell_type": "code",
   "execution_count": 15,
   "id": "aa6230bc",
   "metadata": {},
   "outputs": [
    {
     "data": {
      "text/plain": [
       "array(['Bus Passengers', 'Buses', 'Pedestrians',\n",
       "       'Personal Vehicle Passengers', 'Personal Vehicles',\n",
       "       'Rail Containers Empty', 'Rail Containers Loaded',\n",
       "       'Train Passengers', 'Trains', 'Truck Containers Empty',\n",
       "       'Truck Containers Loaded', 'Trucks'], dtype=object)"
      ]
     },
     "execution_count": 15,
     "metadata": {},
     "output_type": "execute_result"
    }
   ],
   "source": [
    "np.unique(bd['Measure'])"
   ]
  },
  {
   "cell_type": "code",
   "execution_count": 16,
   "id": "ccab569f",
   "metadata": {},
   "outputs": [],
   "source": [
    "bd=bd.astype({'State':'category', 'Measure':'category'})"
   ]
  },
  {
   "cell_type": "code",
   "execution_count": 17,
   "id": "b1b38e13",
   "metadata": {},
   "outputs": [
    {
     "data": {
      "text/plain": [
       "PortName      object\n",
       "State       category\n",
       "PortCode       int64\n",
       "Border        object\n",
       "Date          object\n",
       "Measure     category\n",
       "Value          int64\n",
       "dtype: object"
      ]
     },
     "execution_count": 17,
     "metadata": {},
     "output_type": "execute_result"
    }
   ],
   "source": [
    "bd.dtypes"
   ]
  },
  {
   "cell_type": "code",
   "execution_count": 18,
   "id": "9671f262",
   "metadata": {},
   "outputs": [
    {
     "name": "stdout",
     "output_type": "stream",
     "text": [
      "<class 'pandas.core.frame.DataFrame'>\n",
      "Int64Index: 375030 entries, 0 to 375030\n",
      "Data columns (total 7 columns):\n",
      " #   Column    Non-Null Count   Dtype   \n",
      "---  ------    --------------   -----   \n",
      " 0   PortName  375030 non-null  object  \n",
      " 1   State     375030 non-null  category\n",
      " 2   PortCode  375030 non-null  int64   \n",
      " 3   Border    375030 non-null  object  \n",
      " 4   Date      375030 non-null  object  \n",
      " 5   Measure   375030 non-null  category\n",
      " 6   Value     375030 non-null  int64   \n",
      "dtypes: category(2), int64(2), object(3)\n",
      "memory usage: 17.9+ MB\n"
     ]
    }
   ],
   "source": [
    "bd.info()"
   ]
  },
  {
   "cell_type": "code",
   "execution_count": 19,
   "id": "11619bf5",
   "metadata": {},
   "outputs": [
    {
     "data": {
      "text/plain": [
       "10"
      ]
     },
     "execution_count": 19,
     "metadata": {},
     "output_type": "execute_result"
    }
   ],
   "source": [
    "bd.duplicated().sum()"
   ]
  },
  {
   "cell_type": "code",
   "execution_count": null,
   "id": "3bf293e2",
   "metadata": {},
   "outputs": [],
   "source": []
  },
  {
   "cell_type": "code",
   "execution_count": 20,
   "id": "aed419d7",
   "metadata": {},
   "outputs": [],
   "source": [
    "border_crossings= bd.drop_duplicates(keep='first')"
   ]
  },
  {
   "cell_type": "code",
   "execution_count": 21,
   "id": "8452a0b7",
   "metadata": {},
   "outputs": [
    {
     "data": {
      "text/html": [
       "<div>\n",
       "<style scoped>\n",
       "    .dataframe tbody tr th:only-of-type {\n",
       "        vertical-align: middle;\n",
       "    }\n",
       "\n",
       "    .dataframe tbody tr th {\n",
       "        vertical-align: top;\n",
       "    }\n",
       "\n",
       "    .dataframe thead th {\n",
       "        text-align: right;\n",
       "    }\n",
       "</style>\n",
       "<table border=\"1\" class=\"dataframe\">\n",
       "  <thead>\n",
       "    <tr style=\"text-align: right;\">\n",
       "      <th></th>\n",
       "      <th>PortName</th>\n",
       "      <th>State</th>\n",
       "      <th>PortCode</th>\n",
       "      <th>Border</th>\n",
       "      <th>Date</th>\n",
       "      <th>Measure</th>\n",
       "      <th>Value</th>\n",
       "    </tr>\n",
       "  </thead>\n",
       "  <tbody>\n",
       "    <tr>\n",
       "      <th>0</th>\n",
       "      <td>Alcan</td>\n",
       "      <td>Alaska</td>\n",
       "      <td>3104</td>\n",
       "      <td>US-Canada Border</td>\n",
       "      <td>May-22</td>\n",
       "      <td>Personal Vehicle Passengers</td>\n",
       "      <td>8612</td>\n",
       "    </tr>\n",
       "    <tr>\n",
       "      <th>1</th>\n",
       "      <td>Alcan</td>\n",
       "      <td>Alaska</td>\n",
       "      <td>3104</td>\n",
       "      <td>US-Canada Border</td>\n",
       "      <td>May-22</td>\n",
       "      <td>Personal Vehicles</td>\n",
       "      <td>5252</td>\n",
       "    </tr>\n",
       "    <tr>\n",
       "      <th>2</th>\n",
       "      <td>Alcan</td>\n",
       "      <td>Alaska</td>\n",
       "      <td>3104</td>\n",
       "      <td>US-Canada Border</td>\n",
       "      <td>May-22</td>\n",
       "      <td>Truck Containers Empty</td>\n",
       "      <td>339</td>\n",
       "    </tr>\n",
       "    <tr>\n",
       "      <th>3</th>\n",
       "      <td>Alcan</td>\n",
       "      <td>Alaska</td>\n",
       "      <td>3104</td>\n",
       "      <td>US-Canada Border</td>\n",
       "      <td>May-22</td>\n",
       "      <td>Truck Containers Loaded</td>\n",
       "      <td>128</td>\n",
       "    </tr>\n",
       "    <tr>\n",
       "      <th>4</th>\n",
       "      <td>Alcan</td>\n",
       "      <td>Alaska</td>\n",
       "      <td>3104</td>\n",
       "      <td>US-Canada Border</td>\n",
       "      <td>May-22</td>\n",
       "      <td>Trucks</td>\n",
       "      <td>465</td>\n",
       "    </tr>\n",
       "  </tbody>\n",
       "</table>\n",
       "</div>"
      ],
      "text/plain": [
       "  PortName   State  PortCode            Border    Date  \\\n",
       "0    Alcan  Alaska      3104  US-Canada Border  May-22   \n",
       "1    Alcan  Alaska      3104  US-Canada Border  May-22   \n",
       "2    Alcan  Alaska      3104  US-Canada Border  May-22   \n",
       "3    Alcan  Alaska      3104  US-Canada Border  May-22   \n",
       "4    Alcan  Alaska      3104  US-Canada Border  May-22   \n",
       "\n",
       "                       Measure  Value  \n",
       "0  Personal Vehicle Passengers   8612  \n",
       "1            Personal Vehicles   5252  \n",
       "2       Truck Containers Empty    339  \n",
       "3      Truck Containers Loaded    128  \n",
       "4                       Trucks    465  "
      ]
     },
     "execution_count": 21,
     "metadata": {},
     "output_type": "execute_result"
    }
   ],
   "source": [
    "border_crossings.head()"
   ]
  },
  {
   "cell_type": "code",
   "execution_count": 22,
   "id": "15f63ae2",
   "metadata": {},
   "outputs": [],
   "source": [
    "border_crossings=border_crossings.reset_index(drop = True)"
   ]
  },
  {
   "cell_type": "code",
   "execution_count": 23,
   "id": "a30462d2",
   "metadata": {},
   "outputs": [
    {
     "data": {
      "text/html": [
       "<div>\n",
       "<style scoped>\n",
       "    .dataframe tbody tr th:only-of-type {\n",
       "        vertical-align: middle;\n",
       "    }\n",
       "\n",
       "    .dataframe tbody tr th {\n",
       "        vertical-align: top;\n",
       "    }\n",
       "\n",
       "    .dataframe thead th {\n",
       "        text-align: right;\n",
       "    }\n",
       "</style>\n",
       "<table border=\"1\" class=\"dataframe\">\n",
       "  <thead>\n",
       "    <tr style=\"text-align: right;\">\n",
       "      <th></th>\n",
       "      <th>PortName</th>\n",
       "      <th>State</th>\n",
       "      <th>PortCode</th>\n",
       "      <th>Border</th>\n",
       "      <th>Date</th>\n",
       "      <th>Measure</th>\n",
       "      <th>Value</th>\n",
       "    </tr>\n",
       "  </thead>\n",
       "  <tbody>\n",
       "    <tr>\n",
       "      <th>0</th>\n",
       "      <td>Alcan</td>\n",
       "      <td>Alaska</td>\n",
       "      <td>3104</td>\n",
       "      <td>US-Canada Border</td>\n",
       "      <td>May-22</td>\n",
       "      <td>Personal Vehicle Passengers</td>\n",
       "      <td>8612</td>\n",
       "    </tr>\n",
       "    <tr>\n",
       "      <th>1</th>\n",
       "      <td>Alcan</td>\n",
       "      <td>Alaska</td>\n",
       "      <td>3104</td>\n",
       "      <td>US-Canada Border</td>\n",
       "      <td>May-22</td>\n",
       "      <td>Personal Vehicles</td>\n",
       "      <td>5252</td>\n",
       "    </tr>\n",
       "    <tr>\n",
       "      <th>2</th>\n",
       "      <td>Alcan</td>\n",
       "      <td>Alaska</td>\n",
       "      <td>3104</td>\n",
       "      <td>US-Canada Border</td>\n",
       "      <td>May-22</td>\n",
       "      <td>Truck Containers Empty</td>\n",
       "      <td>339</td>\n",
       "    </tr>\n",
       "    <tr>\n",
       "      <th>3</th>\n",
       "      <td>Alcan</td>\n",
       "      <td>Alaska</td>\n",
       "      <td>3104</td>\n",
       "      <td>US-Canada Border</td>\n",
       "      <td>May-22</td>\n",
       "      <td>Truck Containers Loaded</td>\n",
       "      <td>128</td>\n",
       "    </tr>\n",
       "    <tr>\n",
       "      <th>4</th>\n",
       "      <td>Alcan</td>\n",
       "      <td>Alaska</td>\n",
       "      <td>3104</td>\n",
       "      <td>US-Canada Border</td>\n",
       "      <td>May-22</td>\n",
       "      <td>Trucks</td>\n",
       "      <td>465</td>\n",
       "    </tr>\n",
       "    <tr>\n",
       "      <th>...</th>\n",
       "      <td>...</td>\n",
       "      <td>...</td>\n",
       "      <td>...</td>\n",
       "      <td>...</td>\n",
       "      <td>...</td>\n",
       "      <td>...</td>\n",
       "      <td>...</td>\n",
       "    </tr>\n",
       "    <tr>\n",
       "      <th>375015</th>\n",
       "      <td>Willow Creek</td>\n",
       "      <td>Montana</td>\n",
       "      <td>3325</td>\n",
       "      <td>US-Canada Border</td>\n",
       "      <td>Jun-22</td>\n",
       "      <td>Personal Vehicles</td>\n",
       "      <td>174</td>\n",
       "    </tr>\n",
       "    <tr>\n",
       "      <th>375016</th>\n",
       "      <td>Ysleta</td>\n",
       "      <td>Texas</td>\n",
       "      <td>2401</td>\n",
       "      <td>US-Mexico Border</td>\n",
       "      <td>Jun-22</td>\n",
       "      <td>Pedestrians</td>\n",
       "      <td>125507</td>\n",
       "    </tr>\n",
       "    <tr>\n",
       "      <th>375017</th>\n",
       "      <td>Ysleta</td>\n",
       "      <td>Texas</td>\n",
       "      <td>2401</td>\n",
       "      <td>US-Mexico Border</td>\n",
       "      <td>Jun-22</td>\n",
       "      <td>Personal Vehicle Passengers</td>\n",
       "      <td>454316</td>\n",
       "    </tr>\n",
       "    <tr>\n",
       "      <th>375018</th>\n",
       "      <td>Ysleta</td>\n",
       "      <td>Texas</td>\n",
       "      <td>2401</td>\n",
       "      <td>US-Mexico Border</td>\n",
       "      <td>Jun-22</td>\n",
       "      <td>Personal Vehicles</td>\n",
       "      <td>265507</td>\n",
       "    </tr>\n",
       "    <tr>\n",
       "      <th>375019</th>\n",
       "      <td>Ysleta</td>\n",
       "      <td>Texas</td>\n",
       "      <td>2401</td>\n",
       "      <td>US-Mexico Border</td>\n",
       "      <td>Jun-22</td>\n",
       "      <td>Trucks</td>\n",
       "      <td>56011</td>\n",
       "    </tr>\n",
       "  </tbody>\n",
       "</table>\n",
       "<p>375020 rows × 7 columns</p>\n",
       "</div>"
      ],
      "text/plain": [
       "            PortName    State  PortCode            Border    Date  \\\n",
       "0              Alcan   Alaska      3104  US-Canada Border  May-22   \n",
       "1              Alcan   Alaska      3104  US-Canada Border  May-22   \n",
       "2              Alcan   Alaska      3104  US-Canada Border  May-22   \n",
       "3              Alcan   Alaska      3104  US-Canada Border  May-22   \n",
       "4              Alcan   Alaska      3104  US-Canada Border  May-22   \n",
       "...              ...      ...       ...               ...     ...   \n",
       "375015  Willow Creek  Montana      3325  US-Canada Border  Jun-22   \n",
       "375016        Ysleta    Texas      2401  US-Mexico Border  Jun-22   \n",
       "375017        Ysleta    Texas      2401  US-Mexico Border  Jun-22   \n",
       "375018        Ysleta    Texas      2401  US-Mexico Border  Jun-22   \n",
       "375019        Ysleta    Texas      2401  US-Mexico Border  Jun-22   \n",
       "\n",
       "                            Measure   Value  \n",
       "0       Personal Vehicle Passengers    8612  \n",
       "1                 Personal Vehicles    5252  \n",
       "2            Truck Containers Empty     339  \n",
       "3           Truck Containers Loaded     128  \n",
       "4                            Trucks     465  \n",
       "...                             ...     ...  \n",
       "375015            Personal Vehicles     174  \n",
       "375016                  Pedestrians  125507  \n",
       "375017  Personal Vehicle Passengers  454316  \n",
       "375018            Personal Vehicles  265507  \n",
       "375019                       Trucks   56011  \n",
       "\n",
       "[375020 rows x 7 columns]"
      ]
     },
     "execution_count": 23,
     "metadata": {},
     "output_type": "execute_result"
    }
   ],
   "source": [
    "border_crossings"
   ]
  },
  {
   "cell_type": "code",
   "execution_count": 24,
   "id": "5a2fb134",
   "metadata": {},
   "outputs": [
    {
     "name": "stdout",
     "output_type": "stream",
     "text": [
      "<class 'pandas.core.frame.DataFrame'>\n",
      "RangeIndex: 375020 entries, 0 to 375019\n",
      "Data columns (total 7 columns):\n",
      " #   Column    Non-Null Count   Dtype   \n",
      "---  ------    --------------   -----   \n",
      " 0   PortName  375020 non-null  object  \n",
      " 1   State     375020 non-null  category\n",
      " 2   PortCode  375020 non-null  int64   \n",
      " 3   Border    375020 non-null  object  \n",
      " 4   Date      375020 non-null  object  \n",
      " 5   Measure   375020 non-null  category\n",
      " 6   Value     375020 non-null  int64   \n",
      "dtypes: category(2), int64(2), object(3)\n",
      "memory usage: 15.0+ MB\n"
     ]
    }
   ],
   "source": [
    "border_crossings.info()"
   ]
  },
  {
   "cell_type": "code",
   "execution_count": 25,
   "id": "acc55e83",
   "metadata": {},
   "outputs": [],
   "source": [
    "import seaborn as sns\n",
    "import matplotlib.pyplot as plt"
   ]
  },
  {
   "cell_type": "code",
   "execution_count": 26,
   "id": "4c939cb2",
   "metadata": {},
   "outputs": [
    {
     "data": {
      "image/png": "[encoded data removed]",
      "text/plain": [
       "<Figure size 720x360 with 1 Axes>"
      ]
     },
     "metadata": {
      "needs_background": "light"
     },
     "output_type": "display_data"
    }
   ],
   "source": [
    "plt.figure(figsize=(10,5))\n",
    "sns.countplot(y='Measure', data= border_crossings, color='slategrey')\n",
    "plt.show()"
   ]
  },
  {
   "cell_type": "code",
   "execution_count": 27,
   "id": "6f74e034",
   "metadata": {},
   "outputs": [
    {
     "data": {
      "image/png": "[encoded data removed]",
      "text/plain": [
       "<Figure size 864x576 with 1 Axes>"
      ]
     },
     "metadata": {
      "needs_background": "light"
     },
     "output_type": "display_data"
    }
   ],
   "source": [
    "plt.figure(figsize=(12,8))\n",
    "sns.countplot(y='State', data= border_crossings,order=border_crossings['State'].value_counts().index, color='slategrey')\n",
    "plt.xticks(rotation=90)\n",
    "plt.show()"
   ]
  }
 ],
 "metadata": {
  "kernelspec": {
   "display_name": "Python 3 (ipykernel)",
   "language": "python",
   "name": "python3"
  },
  "language_info": {
   "codemirror_mode": {
    "name": "ipython",
    "version": 3
   },
   "file_extension": ".py",
   "mimetype": "text/x-python",
   "name": "python",
   "nbconvert_exporter": "python",
   "pygments_lexer": "ipython3",
   "version": "3.9.12"
  }
 },
 "nbformat": 4,
 "nbformat_minor": 5
}
