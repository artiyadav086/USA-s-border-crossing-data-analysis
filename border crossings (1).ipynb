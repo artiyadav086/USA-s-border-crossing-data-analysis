{
 "cells": [
  {
   "cell_type": "code",
   "execution_count": 1,
   "id": "b6fd114c",
   "metadata": {},
   "outputs": [],
   "source": [
    "import pandas as pd"
   ]
  },
  {
   "cell_type": "code",
   "execution_count": 2,
   "id": "2b90e68f",
   "metadata": {},
   "outputs": [],
   "source": [
    "data = pd.read_csv('Border_Crossing_Entry_Data.csv')"
   ]
  },
  {
   "cell_type": "code",
   "execution_count": 3,
   "id": "8932fb99",
   "metadata": {},
   "outputs": [
    {
     "data": {
      "text/html": [
       "<div>\n",
       "<style scoped>\n",
       "    .dataframe tbody tr th:only-of-type {\n",
       "        vertical-align: middle;\n",
       "    }\n",
       "\n",
       "    .dataframe tbody tr th {\n",
       "        vertical-align: top;\n",
       "    }\n",
       "\n",
       "    .dataframe thead th {\n",
       "        text-align: right;\n",
       "    }\n",
       "</style>\n",
       "<table border=\"1\" class=\"dataframe\">\n",
       "  <thead>\n",
       "    <tr style=\"text-align: right;\">\n",
       "      <th></th>\n",
       "      <th>Port Name</th>\n",
       "      <th>State</th>\n",
       "      <th>Port Code</th>\n",
       "      <th>Border</th>\n",
       "      <th>Date</th>\n",
       "      <th>Measure</th>\n",
       "      <th>Value</th>\n",
       "    </tr>\n",
       "  </thead>\n",
       "  <tbody>\n",
       "    <tr>\n",
       "      <th>0</th>\n",
       "      <td>Alcan</td>\n",
       "      <td>Alaska</td>\n",
       "      <td>3104</td>\n",
       "      <td>US-Canada Border</td>\n",
       "      <td>May 2022</td>\n",
       "      <td>Personal Vehicle Passengers</td>\n",
       "      <td>8612</td>\n",
       "    </tr>\n",
       "    <tr>\n",
       "      <th>1</th>\n",
       "      <td>Alcan</td>\n",
       "      <td>Alaska</td>\n",
       "      <td>3104</td>\n",
       "      <td>US-Canada Border</td>\n",
       "      <td>May 2022</td>\n",
       "      <td>Personal Vehicles</td>\n",
       "      <td>5252</td>\n",
       "    </tr>\n",
       "    <tr>\n",
       "      <th>2</th>\n",
       "      <td>Alcan</td>\n",
       "      <td>Alaska</td>\n",
       "      <td>3104</td>\n",
       "      <td>US-Canada Border</td>\n",
       "      <td>May 2022</td>\n",
       "      <td>Truck Containers Empty</td>\n",
       "      <td>339</td>\n",
       "    </tr>\n",
       "    <tr>\n",
       "      <th>3</th>\n",
       "      <td>Alcan</td>\n",
       "      <td>Alaska</td>\n",
       "      <td>3104</td>\n",
       "      <td>US-Canada Border</td>\n",
       "      <td>May 2022</td>\n",
       "      <td>Truck Containers Loaded</td>\n",
       "      <td>128</td>\n",
       "    </tr>\n",
       "    <tr>\n",
       "      <th>4</th>\n",
       "      <td>Alcan</td>\n",
       "      <td>Alaska</td>\n",
       "      <td>3104</td>\n",
       "      <td>US-Canada Border</td>\n",
       "      <td>May 2022</td>\n",
       "      <td>Trucks</td>\n",
       "      <td>465</td>\n",
       "    </tr>\n",
       "    <tr>\n",
       "      <th>5</th>\n",
       "      <td>Alexandria Bay</td>\n",
       "      <td>New York</td>\n",
       "      <td>708</td>\n",
       "      <td>US-Canada Border</td>\n",
       "      <td>May 2022</td>\n",
       "      <td>Buses</td>\n",
       "      <td>39</td>\n",
       "    </tr>\n",
       "    <tr>\n",
       "      <th>6</th>\n",
       "      <td>Alexandria Bay</td>\n",
       "      <td>New York</td>\n",
       "      <td>708</td>\n",
       "      <td>US-Canada Border</td>\n",
       "      <td>May 2022</td>\n",
       "      <td>Bus Passengers</td>\n",
       "      <td>1122</td>\n",
       "    </tr>\n",
       "    <tr>\n",
       "      <th>7</th>\n",
       "      <td>Alexandria Bay</td>\n",
       "      <td>New York</td>\n",
       "      <td>708</td>\n",
       "      <td>US-Canada Border</td>\n",
       "      <td>May 2022</td>\n",
       "      <td>Personal Vehicle Passengers</td>\n",
       "      <td>56451</td>\n",
       "    </tr>\n",
       "    <tr>\n",
       "      <th>8</th>\n",
       "      <td>Alexandria Bay</td>\n",
       "      <td>New York</td>\n",
       "      <td>708</td>\n",
       "      <td>US-Canada Border</td>\n",
       "      <td>May 2022</td>\n",
       "      <td>Personal Vehicles</td>\n",
       "      <td>27983</td>\n",
       "    </tr>\n",
       "    <tr>\n",
       "      <th>9</th>\n",
       "      <td>Alexandria Bay</td>\n",
       "      <td>New York</td>\n",
       "      <td>708</td>\n",
       "      <td>US-Canada Border</td>\n",
       "      <td>May 2022</td>\n",
       "      <td>Truck Containers Empty</td>\n",
       "      <td>4990</td>\n",
       "    </tr>\n",
       "  </tbody>\n",
       "</table>\n",
       "</div>"
      ],
      "text/plain": [
       "        Port Name     State  Port Code            Border      Date  \\\n",
       "0           Alcan    Alaska       3104  US-Canada Border  May 2022   \n",
       "1           Alcan    Alaska       3104  US-Canada Border  May 2022   \n",
       "2           Alcan    Alaska       3104  US-Canada Border  May 2022   \n",
       "3           Alcan    Alaska       3104  US-Canada Border  May 2022   \n",
       "4           Alcan    Alaska       3104  US-Canada Border  May 2022   \n",
       "5  Alexandria Bay  New York        708  US-Canada Border  May 2022   \n",
       "6  Alexandria Bay  New York        708  US-Canada Border  May 2022   \n",
       "7  Alexandria Bay  New York        708  US-Canada Border  May 2022   \n",
       "8  Alexandria Bay  New York        708  US-Canada Border  May 2022   \n",
       "9  Alexandria Bay  New York        708  US-Canada Border  May 2022   \n",
       "\n",
       "                       Measure  Value  \n",
       "0  Personal Vehicle Passengers   8612  \n",
       "1            Personal Vehicles   5252  \n",
       "2       Truck Containers Empty    339  \n",
       "3      Truck Containers Loaded    128  \n",
       "4                       Trucks    465  \n",
       "5                        Buses     39  \n",
       "6               Bus Passengers   1122  \n",
       "7  Personal Vehicle Passengers  56451  \n",
       "8            Personal Vehicles  27983  \n",
       "9       Truck Containers Empty   4990  "
      ]
     },
     "execution_count": 3,
     "metadata": {},
     "output_type": "execute_result"
    }
   ],
   "source": [
    "data.head(10)"
   ]
  },
  {
   "cell_type": "code",
   "execution_count": 4,
   "id": "bfb9cd20",
   "metadata": {},
   "outputs": [
    {
     "data": {
      "text/html": [
       "<div>\n",
       "<style scoped>\n",
       "    .dataframe tbody tr th:only-of-type {\n",
       "        vertical-align: middle;\n",
       "    }\n",
       "\n",
       "    .dataframe tbody tr th {\n",
       "        vertical-align: top;\n",
       "    }\n",
       "\n",
       "    .dataframe thead th {\n",
       "        text-align: right;\n",
       "    }\n",
       "</style>\n",
       "<table border=\"1\" class=\"dataframe\">\n",
       "  <thead>\n",
       "    <tr style=\"text-align: right;\">\n",
       "      <th></th>\n",
       "      <th>Port Name</th>\n",
       "      <th>State</th>\n",
       "      <th>Port Code</th>\n",
       "      <th>Border</th>\n",
       "      <th>Date</th>\n",
       "      <th>Measure</th>\n",
       "      <th>Value</th>\n",
       "    </tr>\n",
       "  </thead>\n",
       "  <tbody>\n",
       "    <tr>\n",
       "      <th>375021</th>\n",
       "      <td>Whitlash</td>\n",
       "      <td>Montana</td>\n",
       "      <td>3321</td>\n",
       "      <td>US-Canada Border</td>\n",
       "      <td>Jun 2022</td>\n",
       "      <td>Personal Vehicles</td>\n",
       "      <td>20</td>\n",
       "    </tr>\n",
       "    <tr>\n",
       "      <th>375022</th>\n",
       "      <td>Wildhorse</td>\n",
       "      <td>Montana</td>\n",
       "      <td>3323</td>\n",
       "      <td>US-Canada Border</td>\n",
       "      <td>Jun 2022</td>\n",
       "      <td>Personal Vehicle Passengers</td>\n",
       "      <td>1625</td>\n",
       "    </tr>\n",
       "    <tr>\n",
       "      <th>375023</th>\n",
       "      <td>Wildhorse</td>\n",
       "      <td>Montana</td>\n",
       "      <td>3323</td>\n",
       "      <td>US-Canada Border</td>\n",
       "      <td>Jun 2022</td>\n",
       "      <td>Personal Vehicles</td>\n",
       "      <td>816</td>\n",
       "    </tr>\n",
       "    <tr>\n",
       "      <th>375024</th>\n",
       "      <td>Wildhorse</td>\n",
       "      <td>Montana</td>\n",
       "      <td>3323</td>\n",
       "      <td>US-Canada Border</td>\n",
       "      <td>Jun 2022</td>\n",
       "      <td>Trucks</td>\n",
       "      <td>22</td>\n",
       "    </tr>\n",
       "    <tr>\n",
       "      <th>375025</th>\n",
       "      <td>Willow Creek</td>\n",
       "      <td>Montana</td>\n",
       "      <td>3325</td>\n",
       "      <td>US-Canada Border</td>\n",
       "      <td>Jun 2022</td>\n",
       "      <td>Personal Vehicle Passengers</td>\n",
       "      <td>374</td>\n",
       "    </tr>\n",
       "    <tr>\n",
       "      <th>375026</th>\n",
       "      <td>Willow Creek</td>\n",
       "      <td>Montana</td>\n",
       "      <td>3325</td>\n",
       "      <td>US-Canada Border</td>\n",
       "      <td>Jun 2022</td>\n",
       "      <td>Personal Vehicles</td>\n",
       "      <td>174</td>\n",
       "    </tr>\n",
       "    <tr>\n",
       "      <th>375027</th>\n",
       "      <td>Ysleta</td>\n",
       "      <td>Texas</td>\n",
       "      <td>2401</td>\n",
       "      <td>US-Mexico Border</td>\n",
       "      <td>Jun 2022</td>\n",
       "      <td>Pedestrians</td>\n",
       "      <td>125507</td>\n",
       "    </tr>\n",
       "    <tr>\n",
       "      <th>375028</th>\n",
       "      <td>Ysleta</td>\n",
       "      <td>Texas</td>\n",
       "      <td>2401</td>\n",
       "      <td>US-Mexico Border</td>\n",
       "      <td>Jun 2022</td>\n",
       "      <td>Personal Vehicle Passengers</td>\n",
       "      <td>454316</td>\n",
       "    </tr>\n",
       "    <tr>\n",
       "      <th>375029</th>\n",
       "      <td>Ysleta</td>\n",
       "      <td>Texas</td>\n",
       "      <td>2401</td>\n",
       "      <td>US-Mexico Border</td>\n",
       "      <td>Jun 2022</td>\n",
       "      <td>Personal Vehicles</td>\n",
       "      <td>265507</td>\n",
       "    </tr>\n",
       "    <tr>\n",
       "      <th>375030</th>\n",
       "      <td>Ysleta</td>\n",
       "      <td>Texas</td>\n",
       "      <td>2401</td>\n",
       "      <td>US-Mexico Border</td>\n",
       "      <td>Jun 2022</td>\n",
       "      <td>Trucks</td>\n",
       "      <td>56011</td>\n",
       "    </tr>\n",
       "  </tbody>\n",
       "</table>\n",
       "</div>"
      ],
      "text/plain": [
       "           Port Name    State  Port Code            Border      Date  \\\n",
       "375021      Whitlash  Montana       3321  US-Canada Border  Jun 2022   \n",
       "375022     Wildhorse  Montana       3323  US-Canada Border  Jun 2022   \n",
       "375023     Wildhorse  Montana       3323  US-Canada Border  Jun 2022   \n",
       "375024     Wildhorse  Montana       3323  US-Canada Border  Jun 2022   \n",
       "375025  Willow Creek  Montana       3325  US-Canada Border  Jun 2022   \n",
       "375026  Willow Creek  Montana       3325  US-Canada Border  Jun 2022   \n",
       "375027        Ysleta    Texas       2401  US-Mexico Border  Jun 2022   \n",
       "375028        Ysleta    Texas       2401  US-Mexico Border  Jun 2022   \n",
       "375029        Ysleta    Texas       2401  US-Mexico Border  Jun 2022   \n",
       "375030        Ysleta    Texas       2401  US-Mexico Border  Jun 2022   \n",
       "\n",
       "                            Measure   Value  \n",
       "375021            Personal Vehicles      20  \n",
       "375022  Personal Vehicle Passengers    1625  \n",
       "375023            Personal Vehicles     816  \n",
       "375024                       Trucks      22  \n",
       "375025  Personal Vehicle Passengers     374  \n",
       "375026            Personal Vehicles     174  \n",
       "375027                  Pedestrians  125507  \n",
       "375028  Personal Vehicle Passengers  454316  \n",
       "375029            Personal Vehicles  265507  \n",
       "375030                       Trucks   56011  "
      ]
     },
     "execution_count": 4,
     "metadata": {},
     "output_type": "execute_result"
    }
   ],
   "source": [
    "data.tail(10)"
   ]
  },
  {
   "cell_type": "code",
   "execution_count": 5,
   "id": "06d2c47b",
   "metadata": {},
   "outputs": [
    {
     "name": "stdout",
     "output_type": "stream",
     "text": [
      "<class 'pandas.core.frame.DataFrame'>\n",
      "RangeIndex: 375031 entries, 0 to 375030\n",
      "Data columns (total 7 columns):\n",
      " #   Column     Non-Null Count   Dtype \n",
      "---  ------     --------------   ----- \n",
      " 0   Port Name  375031 non-null  object\n",
      " 1   State      375030 non-null  object\n",
      " 2   Port Code  375031 non-null  int64 \n",
      " 3   Border     375031 non-null  object\n",
      " 4   Date       375031 non-null  object\n",
      " 5   Measure    375031 non-null  object\n",
      " 6   Value      375031 non-null  int64 \n",
      "dtypes: int64(2), object(5)\n",
      "memory usage: 20.0+ MB\n"
     ]
    }
   ],
   "source": [
    "data.info()"
   ]
  },
  {
   "cell_type": "code",
   "execution_count": 6,
   "id": "24a95fa0",
   "metadata": {},
   "outputs": [
    {
     "data": {
      "text/html": [
       "<div>\n",
       "<style scoped>\n",
       "    .dataframe tbody tr th:only-of-type {\n",
       "        vertical-align: middle;\n",
       "    }\n",
       "\n",
       "    .dataframe tbody tr th {\n",
       "        vertical-align: top;\n",
       "    }\n",
       "\n",
       "    .dataframe thead th {\n",
       "        text-align: right;\n",
       "    }\n",
       "</style>\n",
       "<table border=\"1\" class=\"dataframe\">\n",
       "  <thead>\n",
       "    <tr style=\"text-align: right;\">\n",
       "      <th></th>\n",
       "      <th>Port Code</th>\n",
       "      <th>Value</th>\n",
       "    </tr>\n",
       "  </thead>\n",
       "  <tbody>\n",
       "    <tr>\n",
       "      <th>count</th>\n",
       "      <td>375031.000000</td>\n",
       "      <td>3.750310e+05</td>\n",
       "    </tr>\n",
       "    <tr>\n",
       "      <th>mean</th>\n",
       "      <td>2450.482067</td>\n",
       "      <td>2.833262e+04</td>\n",
       "    </tr>\n",
       "    <tr>\n",
       "      <th>std</th>\n",
       "      <td>1202.608213</td>\n",
       "      <td>1.499773e+05</td>\n",
       "    </tr>\n",
       "    <tr>\n",
       "      <th>min</th>\n",
       "      <td>101.000000</td>\n",
       "      <td>0.000000e+00</td>\n",
       "    </tr>\n",
       "    <tr>\n",
       "      <th>25%</th>\n",
       "      <td>2304.000000</td>\n",
       "      <td>0.000000e+00</td>\n",
       "    </tr>\n",
       "    <tr>\n",
       "      <th>50%</th>\n",
       "      <td>3012.000000</td>\n",
       "      <td>1.190000e+02</td>\n",
       "    </tr>\n",
       "    <tr>\n",
       "      <th>75%</th>\n",
       "      <td>3401.000000</td>\n",
       "      <td>2.738000e+03</td>\n",
       "    </tr>\n",
       "    <tr>\n",
       "      <th>max</th>\n",
       "      <td>5301.000000</td>\n",
       "      <td>4.447374e+06</td>\n",
       "    </tr>\n",
       "  </tbody>\n",
       "</table>\n",
       "</div>"
      ],
      "text/plain": [
       "           Port Code         Value\n",
       "count  375031.000000  3.750310e+05\n",
       "mean     2450.482067  2.833262e+04\n",
       "std      1202.608213  1.499773e+05\n",
       "min       101.000000  0.000000e+00\n",
       "25%      2304.000000  0.000000e+00\n",
       "50%      3012.000000  1.190000e+02\n",
       "75%      3401.000000  2.738000e+03\n",
       "max      5301.000000  4.447374e+06"
      ]
     },
     "execution_count": 6,
     "metadata": {},
     "output_type": "execute_result"
    }
   ],
   "source": [
    "import pandas as pd\n",
    "import numpy as np\n",
    "data.describe()"
   ]
  },
  {
   "cell_type": "code",
   "execution_count": 7,
   "id": "49356700",
   "metadata": {},
   "outputs": [
    {
     "data": {
      "text/plain": [
       "Port Name    0\n",
       "State        1\n",
       "Port Code    0\n",
       "Border       0\n",
       "Date         0\n",
       "Measure      0\n",
       "Value        0\n",
       "dtype: int64"
      ]
     },
     "execution_count": 7,
     "metadata": {},
     "output_type": "execute_result"
    }
   ],
   "source": [
    "data.isna().sum()"
   ]
  },
  {
   "cell_type": "code",
   "execution_count": 8,
   "id": "5482b5bd",
   "metadata": {},
   "outputs": [],
   "source": [
    "bd=data.dropna()"
   ]
  },
  {
   "cell_type": "code",
   "execution_count": 9,
   "id": "098f3a57",
   "metadata": {},
   "outputs": [
    {
     "name": "stdout",
     "output_type": "stream",
     "text": [
      "<class 'pandas.core.frame.DataFrame'>\n",
      "RangeIndex: 375031 entries, 0 to 375030\n",
      "Data columns (total 7 columns):\n",
      " #   Column     Non-Null Count   Dtype \n",
      "---  ------     --------------   ----- \n",
      " 0   Port Name  375031 non-null  object\n",
      " 1   State      375030 non-null  object\n",
      " 2   Port Code  375031 non-null  int64 \n",
      " 3   Border     375031 non-null  object\n",
      " 4   Date       375031 non-null  object\n",
      " 5   Measure    375031 non-null  object\n",
      " 6   Value      375031 non-null  int64 \n",
      "dtypes: int64(2), object(5)\n",
      "memory usage: 20.0+ MB\n"
     ]
    }
   ],
   "source": [
    "data.info()"
   ]
  },
  {
   "cell_type": "code",
   "execution_count": 10,
   "id": "5deaefc9",
   "metadata": {},
   "outputs": [
    {
     "data": {
      "text/html": [
       "<div>\n",
       "<style scoped>\n",
       "    .dataframe tbody tr th:only-of-type {\n",
       "        vertical-align: middle;\n",
       "    }\n",
       "\n",
       "    .dataframe tbody tr th {\n",
       "        vertical-align: top;\n",
       "    }\n",
       "\n",
       "    .dataframe thead th {\n",
       "        text-align: right;\n",
       "    }\n",
       "</style>\n",
       "<table border=\"1\" class=\"dataframe\">\n",
       "  <thead>\n",
       "    <tr style=\"text-align: right;\">\n",
       "      <th></th>\n",
       "      <th>Port Code</th>\n",
       "      <th>Value</th>\n",
       "    </tr>\n",
       "  </thead>\n",
       "  <tbody>\n",
       "    <tr>\n",
       "      <th>count</th>\n",
       "      <td>375031.000000</td>\n",
       "      <td>3.750310e+05</td>\n",
       "    </tr>\n",
       "    <tr>\n",
       "      <th>mean</th>\n",
       "      <td>2450.482067</td>\n",
       "      <td>2.833262e+04</td>\n",
       "    </tr>\n",
       "    <tr>\n",
       "      <th>std</th>\n",
       "      <td>1202.608213</td>\n",
       "      <td>1.499773e+05</td>\n",
       "    </tr>\n",
       "    <tr>\n",
       "      <th>min</th>\n",
       "      <td>101.000000</td>\n",
       "      <td>0.000000e+00</td>\n",
       "    </tr>\n",
       "    <tr>\n",
       "      <th>25%</th>\n",
       "      <td>2304.000000</td>\n",
       "      <td>0.000000e+00</td>\n",
       "    </tr>\n",
       "    <tr>\n",
       "      <th>50%</th>\n",
       "      <td>3012.000000</td>\n",
       "      <td>1.190000e+02</td>\n",
       "    </tr>\n",
       "    <tr>\n",
       "      <th>75%</th>\n",
       "      <td>3401.000000</td>\n",
       "      <td>2.738000e+03</td>\n",
       "    </tr>\n",
       "    <tr>\n",
       "      <th>max</th>\n",
       "      <td>5301.000000</td>\n",
       "      <td>4.447374e+06</td>\n",
       "    </tr>\n",
       "  </tbody>\n",
       "</table>\n",
       "</div>"
      ],
      "text/plain": [
       "           Port Code         Value\n",
       "count  375031.000000  3.750310e+05\n",
       "mean     2450.482067  2.833262e+04\n",
       "std      1202.608213  1.499773e+05\n",
       "min       101.000000  0.000000e+00\n",
       "25%      2304.000000  0.000000e+00\n",
       "50%      3012.000000  1.190000e+02\n",
       "75%      3401.000000  2.738000e+03\n",
       "max      5301.000000  4.447374e+06"
      ]
     },
     "execution_count": 10,
     "metadata": {},
     "output_type": "execute_result"
    }
   ],
   "source": [
    "data.describe()"
   ]
  },
  {
   "cell_type": "code",
   "execution_count": 11,
   "id": "ae8d446b",
   "metadata": {},
   "outputs": [
    {
     "data": {
      "text/plain": [
       "Port Name    object\n",
       "State        object\n",
       "Port Code     int64\n",
       "Border       object\n",
       "Date         object\n",
       "Measure      object\n",
       "Value         int64\n",
       "dtype: object"
      ]
     },
     "execution_count": 11,
     "metadata": {},
     "output_type": "execute_result"
    }
   ],
   "source": [
    "bd.dtypes"
   ]
  },
  {
   "cell_type": "code",
   "execution_count": 12,
   "id": "030fe428",
   "metadata": {},
   "outputs": [
    {
     "data": {
      "text/plain": [
       "array(['Alcan', 'Alexandria Bay', 'Algonac', 'Ambrose', 'Anacortes',\n",
       "       'Andrade', 'Antler', 'Bar Harbor', 'Baudette', 'Beecher Falls',\n",
       "       'Blaine', 'Boquillas', 'Boundary', 'Bridgewater', 'Brownsville',\n",
       "       'Buffalo Niagara Falls', 'Calais', 'Calexico', 'Calexico East',\n",
       "       'Cape Vincent', 'Carbury', 'Champlain Rouses Point', 'Columbus',\n",
       "       'Cross Border Xpress', 'Dalton Cache', 'Danville', 'Del Bonita',\n",
       "       'Del Rio', 'Derby Line', 'Detroit', 'Douglas', 'Dunseith',\n",
       "       'Eagle Pass', 'Eastport', 'El Paso', 'Everett', 'Ferry',\n",
       "       'Fort Fairfield', 'Fort Kent', 'Fortuna', 'Friday Harbor',\n",
       "       'Frontier', 'Grand Portage', 'Hannah', 'Hansboro', 'Hidalgo',\n",
       "       'Highgate Springs', 'Houlton', 'Houston', 'International Falls',\n",
       "       'Jackman', 'Kenneth G Ward', 'Ketchikan', 'Lancaster', 'Laredo',\n",
       "       'Laurier', 'Limestone', 'Lukeville', 'Madawaska', 'Maida',\n",
       "       'Massena', 'Metaline Falls', 'Morgan', 'Naco', 'Neche',\n",
       "       'Nighthawk', 'Nogales', 'Noonan', 'Northgate', 'Norton', 'Noyes',\n",
       "       'Ogdensburg', 'Opheim', 'Oroville', 'Otay Mesa', 'Pembina',\n",
       "       'Piegan', 'Pinecreek', 'Point Roberts', 'Port Angeles',\n",
       "       'Port Huron', 'Portal', 'Porthill', 'Portland', 'Presidio',\n",
       "       'Progreso', 'Raymond', 'Richford', 'Rio Grande City', 'Roma',\n",
       "       'Roosville', 'Roseau', 'San Diego', 'San Luis', 'San Ysidro',\n",
       "       'Santa Teresa', 'Sarles', 'Sasabe', 'Sault Sainte Marie', 'Scobey',\n",
       "       'Seattle', 'Sherwood', 'Skagway', 'St John', 'Sumas', 'Sweetgrass',\n",
       "       'Tecate', 'Toledo', 'Tornillo', 'Trout River', 'Turner',\n",
       "       'Van Buren', 'Vanceboro', 'Walhalla', 'Warroad', 'Westhope',\n",
       "       'Whitetail', 'Whitlash', 'Wildhorse', 'Willow Creek', 'Ysleta'],\n",
       "      dtype=object)"
      ]
     },
     "execution_count": 12,
     "metadata": {},
     "output_type": "execute_result"
    }
   ],
   "source": [
    "np.unique(bd[\"Port Name\"])"
   ]
  },
  {
   "cell_type": "code",
   "execution_count": 13,
   "id": "f73825fb",
   "metadata": {},
   "outputs": [
    {
     "data": {
      "text/plain": [
       "array(['Apr 1996', 'Apr 1997', 'Apr 1998', 'Apr 1999', 'Apr 2000',\n",
       "       'Apr 2001', 'Apr 2002', 'Apr 2003', 'Apr 2004', 'Apr 2005',\n",
       "       'Apr 2006', 'Apr 2007', 'Apr 2008', 'Apr 2009', 'Apr 2010',\n",
       "       'Apr 2011', 'Apr 2012', 'Apr 2013', 'Apr 2014', 'Apr 2015',\n",
       "       'Apr 2016', 'Apr 2017', 'Apr 2018', 'Apr 2019', 'Apr 2020',\n",
       "       'Apr 2021', 'Apr 2022', 'Aug 1996', 'Aug 1997', 'Aug 1998',\n",
       "       'Aug 1999', 'Aug 2000', 'Aug 2001', 'Aug 2002', 'Aug 2003',\n",
       "       'Aug 2004', 'Aug 2005', 'Aug 2006', 'Aug 2007', 'Aug 2008',\n",
       "       'Aug 2009', 'Aug 2010', 'Aug 2011', 'Aug 2012', 'Aug 2013',\n",
       "       'Aug 2014', 'Aug 2015', 'Aug 2016', 'Aug 2017', 'Aug 2018',\n",
       "       'Aug 2019', 'Aug 2020', 'Aug 2021', 'Dec 1996', 'Dec 1997',\n",
       "       'Dec 1998', 'Dec 1999', 'Dec 2000', 'Dec 2001', 'Dec 2002',\n",
       "       'Dec 2003', 'Dec 2004', 'Dec 2005', 'Dec 2006', 'Dec 2007',\n",
       "       'Dec 2008', 'Dec 2009', 'Dec 2010', 'Dec 2011', 'Dec 2012',\n",
       "       'Dec 2013', 'Dec 2014', 'Dec 2015', 'Dec 2016', 'Dec 2017',\n",
       "       'Dec 2018', 'Dec 2019', 'Dec 2020', 'Dec 2021', 'Feb 1996',\n",
       "       'Feb 1997', 'Feb 1998', 'Feb 1999', 'Feb 2000', 'Feb 2001',\n",
       "       'Feb 2002', 'Feb 2003', 'Feb 2004', 'Feb 2005', 'Feb 2006',\n",
       "       'Feb 2007', 'Feb 2008', 'Feb 2009', 'Feb 2010', 'Feb 2011',\n",
       "       'Feb 2012', 'Feb 2013', 'Feb 2014', 'Feb 2015', 'Feb 2016',\n",
       "       'Feb 2017', 'Feb 2018', 'Feb 2019', 'Feb 2020', 'Feb 2021',\n",
       "       'Feb 2022', 'Jan 1996', 'Jan 1997', 'Jan 1998', 'Jan 1999',\n",
       "       'Jan 2000', 'Jan 2001', 'Jan 2002', 'Jan 2003', 'Jan 2004',\n",
       "       'Jan 2005', 'Jan 2006', 'Jan 2007', 'Jan 2008', 'Jan 2009',\n",
       "       'Jan 2010', 'Jan 2011', 'Jan 2012', 'Jan 2013', 'Jan 2014',\n",
       "       'Jan 2015', 'Jan 2016', 'Jan 2017', 'Jan 2018', 'Jan 2019',\n",
       "       'Jan 2020', 'Jan 2021', 'Jan 2022', 'Jul 1996', 'Jul 1997',\n",
       "       'Jul 1998', 'Jul 1999', 'Jul 2000', 'Jul 2001', 'Jul 2002',\n",
       "       'Jul 2003', 'Jul 2004', 'Jul 2005', 'Jul 2006', 'Jul 2007',\n",
       "       'Jul 2008', 'Jul 2009', 'Jul 2010', 'Jul 2011', 'Jul 2012',\n",
       "       'Jul 2013', 'Jul 2014', 'Jul 2015', 'Jul 2016', 'Jul 2017',\n",
       "       'Jul 2018', 'Jul 2019', 'Jul 2020', 'Jul 2021', 'Jun 1996',\n",
       "       'Jun 1997', 'Jun 1998', 'Jun 1999', 'Jun 2000', 'Jun 2001',\n",
       "       'Jun 2002', 'Jun 2003', 'Jun 2004', 'Jun 2005', 'Jun 2006',\n",
       "       'Jun 2007', 'Jun 2008', 'Jun 2009', 'Jun 2010', 'Jun 2011',\n",
       "       'Jun 2012', 'Jun 2013', 'Jun 2014', 'Jun 2015', 'Jun 2016',\n",
       "       'Jun 2017', 'Jun 2018', 'Jun 2019', 'Jun 2020', 'Jun 2021',\n",
       "       'Jun 2022', 'Mar 1996', 'Mar 1997', 'Mar 1998', 'Mar 1999',\n",
       "       'Mar 2000', 'Mar 2001', 'Mar 2002', 'Mar 2003', 'Mar 2004',\n",
       "       'Mar 2005', 'Mar 2006', 'Mar 2007', 'Mar 2008', 'Mar 2009',\n",
       "       'Mar 2010', 'Mar 2011', 'Mar 2012', 'Mar 2013', 'Mar 2014',\n",
       "       'Mar 2015', 'Mar 2016', 'Mar 2017', 'Mar 2018', 'Mar 2019',\n",
       "       'Mar 2020', 'Mar 2021', 'Mar 2022', 'May 1996', 'May 1997',\n",
       "       'May 1998', 'May 1999', 'May 2000', 'May 2001', 'May 2002',\n",
       "       'May 2003', 'May 2004', 'May 2005', 'May 2006', 'May 2007',\n",
       "       'May 2008', 'May 2009', 'May 2010', 'May 2011', 'May 2012',\n",
       "       'May 2013', 'May 2014', 'May 2015', 'May 2016', 'May 2017',\n",
       "       'May 2018', 'May 2019', 'May 2020', 'May 2021', 'May 2022',\n",
       "       'Nov 1996', 'Nov 1997', 'Nov 1998', 'Nov 1999', 'Nov 2000',\n",
       "       'Nov 2001', 'Nov 2002', 'Nov 2003', 'Nov 2004', 'Nov 2005',\n",
       "       'Nov 2006', 'Nov 2007', 'Nov 2008', 'Nov 2009', 'Nov 2010',\n",
       "       'Nov 2011', 'Nov 2012', 'Nov 2013', 'Nov 2014', 'Nov 2015',\n",
       "       'Nov 2016', 'Nov 2017', 'Nov 2018', 'Nov 2019', 'Nov 2020',\n",
       "       'Nov 2021', 'Oct 1996', 'Oct 1997', 'Oct 1998', 'Oct 1999',\n",
       "       'Oct 2000', 'Oct 2001', 'Oct 2002', 'Oct 2003', 'Oct 2004',\n",
       "       'Oct 2005', 'Oct 2006', 'Oct 2007', 'Oct 2008', 'Oct 2009',\n",
       "       'Oct 2010', 'Oct 2011', 'Oct 2012', 'Oct 2013', 'Oct 2014',\n",
       "       'Oct 2015', 'Oct 2016', 'Oct 2017', 'Oct 2018', 'Oct 2019',\n",
       "       'Oct 2020', 'Oct 2021', 'Sep 1996', 'Sep 1997', 'Sep 1998',\n",
       "       'Sep 1999', 'Sep 2000', 'Sep 2001', 'Sep 2002', 'Sep 2003',\n",
       "       'Sep 2004', 'Sep 2005', 'Sep 2006', 'Sep 2007', 'Sep 2008',\n",
       "       'Sep 2009', 'Sep 2010', 'Sep 2011', 'Sep 2012', 'Sep 2013',\n",
       "       'Sep 2014', 'Sep 2015', 'Sep 2016', 'Sep 2017', 'Sep 2018',\n",
       "       'Sep 2019', 'Sep 2020', 'Sep 2021'], dtype=object)"
      ]
     },
     "execution_count": 13,
     "metadata": {},
     "output_type": "execute_result"
    }
   ],
   "source": [
    "np.unique(bd[\"Date\"])"
   ]
  },
  {
   "cell_type": "code",
   "execution_count": 14,
   "id": "a6030bd9",
   "metadata": {},
   "outputs": [
    {
     "data": {
      "text/plain": [
       "array(['Alaska', 'Arizona', 'California', 'Idaho', 'Maine', 'Michigan',\n",
       "       'Minnesota', 'Montana', 'New Mexico', 'New York', 'North Dakota',\n",
       "       'Ohio', 'Texas', 'Vermont', 'Washington'], dtype=object)"
      ]
     },
     "execution_count": 14,
     "metadata": {},
     "output_type": "execute_result"
    }
   ],
   "source": [
    "np.unique(bd['State'])"
   ]
  },
  {
   "cell_type": "code",
   "execution_count": 15,
   "id": "aa6230bc",
   "metadata": {},
   "outputs": [
    {
     "data": {
      "text/plain": [
       "array(['Bus Passengers', 'Buses', 'Pedestrians',\n",
       "       'Personal Vehicle Passengers', 'Personal Vehicles',\n",
       "       'Rail Containers Empty', 'Rail Containers Loaded',\n",
       "       'Train Passengers', 'Trains', 'Truck Containers Empty',\n",
       "       'Truck Containers Loaded', 'Trucks'], dtype=object)"
      ]
     },
     "execution_count": 15,
     "metadata": {},
     "output_type": "execute_result"
    }
   ],
   "source": [
    "np.unique(bd['Measure'])"
   ]
  },
  {
   "cell_type": "code",
   "execution_count": 16,
   "id": "ccab569f",
   "metadata": {},
   "outputs": [],
   "source": [
    "bd=bd.astype({'State':'category', 'Measure':'category'})"
   ]
  },
  {
   "cell_type": "code",
   "execution_count": 17,
   "id": "b1b38e13",
   "metadata": {},
   "outputs": [
    {
     "data": {
      "text/plain": [
       "Port Name      object\n",
       "State        category\n",
       "Port Code       int64\n",
       "Border         object\n",
       "Date           object\n",
       "Measure      category\n",
       "Value           int64\n",
       "dtype: object"
      ]
     },
     "execution_count": 17,
     "metadata": {},
     "output_type": "execute_result"
    }
   ],
   "source": [
    "bd.dtypes"
   ]
  },
  {
   "cell_type": "code",
   "execution_count": 18,
   "id": "9671f262",
   "metadata": {},
   "outputs": [
    {
     "name": "stdout",
     "output_type": "stream",
     "text": [
      "<class 'pandas.core.frame.DataFrame'>\n",
      "Int64Index: 375030 entries, 0 to 375030\n",
      "Data columns (total 7 columns):\n",
      " #   Column     Non-Null Count   Dtype   \n",
      "---  ------     --------------   -----   \n",
      " 0   Port Name  375030 non-null  object  \n",
      " 1   State      375030 non-null  category\n",
      " 2   Port Code  375030 non-null  int64   \n",
      " 3   Border     375030 non-null  object  \n",
      " 4   Date       375030 non-null  object  \n",
      " 5   Measure    375030 non-null  category\n",
      " 6   Value      375030 non-null  int64   \n",
      "dtypes: category(2), int64(2), object(3)\n",
      "memory usage: 17.9+ MB\n"
     ]
    }
   ],
   "source": [
    "bd.info()"
   ]
  },
  {
   "cell_type": "code",
   "execution_count": 19,
   "id": "11619bf5",
   "metadata": {},
   "outputs": [
    {
     "data": {
      "text/plain": [
       "10"
      ]
     },
     "execution_count": 19,
     "metadata": {},
     "output_type": "execute_result"
    }
   ],
   "source": [
    "bd.duplicated().sum()"
   ]
  },
  {
   "cell_type": "code",
   "execution_count": null,
   "id": "3bf293e2",
   "metadata": {},
   "outputs": [],
   "source": []
  },
  {
   "cell_type": "code",
   "execution_count": 20,
   "id": "aed419d7",
   "metadata": {},
   "outputs": [],
   "source": [
    "border_crossings= bd.drop_duplicates(keep='first')"
   ]
  },
  {
   "cell_type": "code",
   "execution_count": 21,
   "id": "8452a0b7",
   "metadata": {},
   "outputs": [
    {
     "data": {
      "text/html": [
       "<div>\n",
       "<style scoped>\n",
       "    .dataframe tbody tr th:only-of-type {\n",
       "        vertical-align: middle;\n",
       "    }\n",
       "\n",
       "    .dataframe tbody tr th {\n",
       "        vertical-align: top;\n",
       "    }\n",
       "\n",
       "    .dataframe thead th {\n",
       "        text-align: right;\n",
       "    }\n",
       "</style>\n",
       "<table border=\"1\" class=\"dataframe\">\n",
       "  <thead>\n",
       "    <tr style=\"text-align: right;\">\n",
       "      <th></th>\n",
       "      <th>Port Name</th>\n",
       "      <th>State</th>\n",
       "      <th>Port Code</th>\n",
       "      <th>Border</th>\n",
       "      <th>Date</th>\n",
       "      <th>Measure</th>\n",
       "      <th>Value</th>\n",
       "    </tr>\n",
       "  </thead>\n",
       "  <tbody>\n",
       "    <tr>\n",
       "      <th>0</th>\n",
       "      <td>Alcan</td>\n",
       "      <td>Alaska</td>\n",
       "      <td>3104</td>\n",
       "      <td>US-Canada Border</td>\n",
       "      <td>May 2022</td>\n",
       "      <td>Personal Vehicle Passengers</td>\n",
       "      <td>8612</td>\n",
       "    </tr>\n",
       "    <tr>\n",
       "      <th>1</th>\n",
       "      <td>Alcan</td>\n",
       "      <td>Alaska</td>\n",
       "      <td>3104</td>\n",
       "      <td>US-Canada Border</td>\n",
       "      <td>May 2022</td>\n",
       "      <td>Personal Vehicles</td>\n",
       "      <td>5252</td>\n",
       "    </tr>\n",
       "    <tr>\n",
       "      <th>2</th>\n",
       "      <td>Alcan</td>\n",
       "      <td>Alaska</td>\n",
       "      <td>3104</td>\n",
       "      <td>US-Canada Border</td>\n",
       "      <td>May 2022</td>\n",
       "      <td>Truck Containers Empty</td>\n",
       "      <td>339</td>\n",
       "    </tr>\n",
       "    <tr>\n",
       "      <th>3</th>\n",
       "      <td>Alcan</td>\n",
       "      <td>Alaska</td>\n",
       "      <td>3104</td>\n",
       "      <td>US-Canada Border</td>\n",
       "      <td>May 2022</td>\n",
       "      <td>Truck Containers Loaded</td>\n",
       "      <td>128</td>\n",
       "    </tr>\n",
       "    <tr>\n",
       "      <th>4</th>\n",
       "      <td>Alcan</td>\n",
       "      <td>Alaska</td>\n",
       "      <td>3104</td>\n",
       "      <td>US-Canada Border</td>\n",
       "      <td>May 2022</td>\n",
       "      <td>Trucks</td>\n",
       "      <td>465</td>\n",
       "    </tr>\n",
       "  </tbody>\n",
       "</table>\n",
       "</div>"
      ],
      "text/plain": [
       "  Port Name   State  Port Code            Border      Date  \\\n",
       "0     Alcan  Alaska       3104  US-Canada Border  May 2022   \n",
       "1     Alcan  Alaska       3104  US-Canada Border  May 2022   \n",
       "2     Alcan  Alaska       3104  US-Canada Border  May 2022   \n",
       "3     Alcan  Alaska       3104  US-Canada Border  May 2022   \n",
       "4     Alcan  Alaska       3104  US-Canada Border  May 2022   \n",
       "\n",
       "                       Measure  Value  \n",
       "0  Personal Vehicle Passengers   8612  \n",
       "1            Personal Vehicles   5252  \n",
       "2       Truck Containers Empty    339  \n",
       "3      Truck Containers Loaded    128  \n",
       "4                       Trucks    465  "
      ]
     },
     "execution_count": 21,
     "metadata": {},
     "output_type": "execute_result"
    }
   ],
   "source": [
    "border_crossings.head()"
   ]
  },
  {
   "cell_type": "code",
   "execution_count": 22,
   "id": "15f63ae2",
   "metadata": {},
   "outputs": [],
   "source": [
    "border_crossings=border_crossings.reset_index(drop = True)"
   ]
  },
  {
   "cell_type": "code",
   "execution_count": 23,
   "id": "a30462d2",
   "metadata": {},
   "outputs": [
    {
     "data": {
      "text/html": [
       "<div>\n",
       "<style scoped>\n",
       "    .dataframe tbody tr th:only-of-type {\n",
       "        vertical-align: middle;\n",
       "    }\n",
       "\n",
       "    .dataframe tbody tr th {\n",
       "        vertical-align: top;\n",
       "    }\n",
       "\n",
       "    .dataframe thead th {\n",
       "        text-align: right;\n",
       "    }\n",
       "</style>\n",
       "<table border=\"1\" class=\"dataframe\">\n",
       "  <thead>\n",
       "    <tr style=\"text-align: right;\">\n",
       "      <th></th>\n",
       "      <th>Port Name</th>\n",
       "      <th>State</th>\n",
       "      <th>Port Code</th>\n",
       "      <th>Border</th>\n",
       "      <th>Date</th>\n",
       "      <th>Measure</th>\n",
       "      <th>Value</th>\n",
       "    </tr>\n",
       "  </thead>\n",
       "  <tbody>\n",
       "    <tr>\n",
       "      <th>0</th>\n",
       "      <td>Alcan</td>\n",
       "      <td>Alaska</td>\n",
       "      <td>3104</td>\n",
       "      <td>US-Canada Border</td>\n",
       "      <td>May 2022</td>\n",
       "      <td>Personal Vehicle Passengers</td>\n",
       "      <td>8612</td>\n",
       "    </tr>\n",
       "    <tr>\n",
       "      <th>1</th>\n",
       "      <td>Alcan</td>\n",
       "      <td>Alaska</td>\n",
       "      <td>3104</td>\n",
       "      <td>US-Canada Border</td>\n",
       "      <td>May 2022</td>\n",
       "      <td>Personal Vehicles</td>\n",
       "      <td>5252</td>\n",
       "    </tr>\n",
       "    <tr>\n",
       "      <th>2</th>\n",
       "      <td>Alcan</td>\n",
       "      <td>Alaska</td>\n",
       "      <td>3104</td>\n",
       "      <td>US-Canada Border</td>\n",
       "      <td>May 2022</td>\n",
       "      <td>Truck Containers Empty</td>\n",
       "      <td>339</td>\n",
       "    </tr>\n",
       "    <tr>\n",
       "      <th>3</th>\n",
       "      <td>Alcan</td>\n",
       "      <td>Alaska</td>\n",
       "      <td>3104</td>\n",
       "      <td>US-Canada Border</td>\n",
       "      <td>May 2022</td>\n",
       "      <td>Truck Containers Loaded</td>\n",
       "      <td>128</td>\n",
       "    </tr>\n",
       "    <tr>\n",
       "      <th>4</th>\n",
       "      <td>Alcan</td>\n",
       "      <td>Alaska</td>\n",
       "      <td>3104</td>\n",
       "      <td>US-Canada Border</td>\n",
       "      <td>May 2022</td>\n",
       "      <td>Trucks</td>\n",
       "      <td>465</td>\n",
       "    </tr>\n",
       "    <tr>\n",
       "      <th>...</th>\n",
       "      <td>...</td>\n",
       "      <td>...</td>\n",
       "      <td>...</td>\n",
       "      <td>...</td>\n",
       "      <td>...</td>\n",
       "      <td>...</td>\n",
       "      <td>...</td>\n",
       "    </tr>\n",
       "    <tr>\n",
       "      <th>375015</th>\n",
       "      <td>Willow Creek</td>\n",
       "      <td>Montana</td>\n",
       "      <td>3325</td>\n",
       "      <td>US-Canada Border</td>\n",
       "      <td>Jun 2022</td>\n",
       "      <td>Personal Vehicles</td>\n",
       "      <td>174</td>\n",
       "    </tr>\n",
       "    <tr>\n",
       "      <th>375016</th>\n",
       "      <td>Ysleta</td>\n",
       "      <td>Texas</td>\n",
       "      <td>2401</td>\n",
       "      <td>US-Mexico Border</td>\n",
       "      <td>Jun 2022</td>\n",
       "      <td>Pedestrians</td>\n",
       "      <td>125507</td>\n",
       "    </tr>\n",
       "    <tr>\n",
       "      <th>375017</th>\n",
       "      <td>Ysleta</td>\n",
       "      <td>Texas</td>\n",
       "      <td>2401</td>\n",
       "      <td>US-Mexico Border</td>\n",
       "      <td>Jun 2022</td>\n",
       "      <td>Personal Vehicle Passengers</td>\n",
       "      <td>454316</td>\n",
       "    </tr>\n",
       "    <tr>\n",
       "      <th>375018</th>\n",
       "      <td>Ysleta</td>\n",
       "      <td>Texas</td>\n",
       "      <td>2401</td>\n",
       "      <td>US-Mexico Border</td>\n",
       "      <td>Jun 2022</td>\n",
       "      <td>Personal Vehicles</td>\n",
       "      <td>265507</td>\n",
       "    </tr>\n",
       "    <tr>\n",
       "      <th>375019</th>\n",
       "      <td>Ysleta</td>\n",
       "      <td>Texas</td>\n",
       "      <td>2401</td>\n",
       "      <td>US-Mexico Border</td>\n",
       "      <td>Jun 2022</td>\n",
       "      <td>Trucks</td>\n",
       "      <td>56011</td>\n",
       "    </tr>\n",
       "  </tbody>\n",
       "</table>\n",
       "<p>375020 rows × 7 columns</p>\n",
       "</div>"
      ],
      "text/plain": [
       "           Port Name    State  Port Code            Border      Date  \\\n",
       "0              Alcan   Alaska       3104  US-Canada Border  May 2022   \n",
       "1              Alcan   Alaska       3104  US-Canada Border  May 2022   \n",
       "2              Alcan   Alaska       3104  US-Canada Border  May 2022   \n",
       "3              Alcan   Alaska       3104  US-Canada Border  May 2022   \n",
       "4              Alcan   Alaska       3104  US-Canada Border  May 2022   \n",
       "...              ...      ...        ...               ...       ...   \n",
       "375015  Willow Creek  Montana       3325  US-Canada Border  Jun 2022   \n",
       "375016        Ysleta    Texas       2401  US-Mexico Border  Jun 2022   \n",
       "375017        Ysleta    Texas       2401  US-Mexico Border  Jun 2022   \n",
       "375018        Ysleta    Texas       2401  US-Mexico Border  Jun 2022   \n",
       "375019        Ysleta    Texas       2401  US-Mexico Border  Jun 2022   \n",
       "\n",
       "                            Measure   Value  \n",
       "0       Personal Vehicle Passengers    8612  \n",
       "1                 Personal Vehicles    5252  \n",
       "2            Truck Containers Empty     339  \n",
       "3           Truck Containers Loaded     128  \n",
       "4                            Trucks     465  \n",
       "...                             ...     ...  \n",
       "375015            Personal Vehicles     174  \n",
       "375016                  Pedestrians  125507  \n",
       "375017  Personal Vehicle Passengers  454316  \n",
       "375018            Personal Vehicles  265507  \n",
       "375019                       Trucks   56011  \n",
       "\n",
       "[375020 rows x 7 columns]"
      ]
     },
     "execution_count": 23,
     "metadata": {},
     "output_type": "execute_result"
    }
   ],
   "source": [
    "border_crossings"
   ]
  },
  {
   "cell_type": "code",
   "execution_count": 24,
   "id": "5a2fb134",
   "metadata": {},
   "outputs": [
    {
     "name": "stdout",
     "output_type": "stream",
     "text": [
      "<class 'pandas.core.frame.DataFrame'>\n",
      "RangeIndex: 375020 entries, 0 to 375019\n",
      "Data columns (total 7 columns):\n",
      " #   Column     Non-Null Count   Dtype   \n",
      "---  ------     --------------   -----   \n",
      " 0   Port Name  375020 non-null  object  \n",
      " 1   State      375020 non-null  category\n",
      " 2   Port Code  375020 non-null  int64   \n",
      " 3   Border     375020 non-null  object  \n",
      " 4   Date       375020 non-null  object  \n",
      " 5   Measure    375020 non-null  category\n",
      " 6   Value      375020 non-null  int64   \n",
      "dtypes: category(2), int64(2), object(3)\n",
      "memory usage: 15.0+ MB\n"
     ]
    }
   ],
   "source": [
    "border_crossings.info()"
   ]
  },
  {
   "cell_type": "code",
   "execution_count": 25,
   "id": "acc55e83",
   "metadata": {},
   "outputs": [],
   "source": [
    "import seaborn as sns\n",
    "import matplotlib.pyplot as plt"
   ]
  },
  {
   "cell_type": "code",
   "execution_count": 26,
   "id": "4c939cb2",
   "metadata": {},
   "outputs": [
    {
     "data": {
      "image/png": "[encoded data removed]",
      "text/plain": [
       "<Figure size 720x360 with 1 Axes>"
      ]
     },
     "metadata": {
      "needs_background": "light"
     },
     "output_type": "display_data"
    }
   ],
   "source": [
    "plt.figure(figsize=(10,5))\n",
    "sns.countplot(y='Measure', data= border_crossings, color='slategrey')\n",
    "plt.show()"
   ]
  },
  {
   "cell_type": "code",
   "execution_count": 27,
   "id": "6f74e034",
   "metadata": {},
   "outputs": [
    {
     "data": {
      "image/png": "[encoded data removed]",
      "text/plain": [
       "<Figure size 864x576 with 1 Axes>"
      ]
     },
     "metadata": {
      "needs_background": "light"
     },
     "output_type": "display_data"
    }
   ],
   "source": [
    "plt.figure(figsize=(12,8))\n",
    "sns.countplot(y='State', data= border_crossings,order=border_crossings['State'].value_counts().index, color='slategrey')\n",
    "plt.xticks(rotation=90)\n",
    "plt.show()"
   ]
  },
  {
   "cell_type": "code",
   "execution_count": 28,
   "id": "fbb4e42d",
   "metadata": {},
   "outputs": [],
   "source": [
    "border_crossings['Time']=pd.to_datetime(border_crossings['Date']) \n",
    "border_crossings['Month']= border_crossings['Time'].dt.month\n",
    "border_crossings['Year']= border_crossings['Time'].dt.year"
   ]
  },
  {
   "cell_type": "code",
   "execution_count": 29,
   "id": "8828c45f",
   "metadata": {},
   "outputs": [
    {
     "data": {
      "text/plain": [
       "array([ 5,  4,  3,  2,  1, 12, 11, 10,  9,  8,  7,  6], dtype=int64)"
      ]
     },
     "execution_count": 29,
     "metadata": {},
     "output_type": "execute_result"
    }
   ],
   "source": [
    "border_crossings['Month'].unique()"
   ]
  },
  {
   "cell_type": "code",
   "execution_count": 30,
   "id": "1602e789",
   "metadata": {},
   "outputs": [
    {
     "data": {
      "text/plain": [
       "array([2022, 2021, 2020, 2019, 2018, 2017, 2016, 2015, 2014, 2013, 2012,\n",
       "       2011, 2010, 2009, 2008, 2007, 2006, 2005, 2004, 2003, 2002, 2001,\n",
       "       2000, 1999, 1998, 1997, 1996], dtype=int64)"
      ]
     },
     "execution_count": 30,
     "metadata": {},
     "output_type": "execute_result"
    }
   ],
   "source": [
    "border_crossings['Year'].unique()"
   ]
  },
  {
   "cell_type": "code",
   "execution_count": 31,
   "id": "5f58678b",
   "metadata": {},
   "outputs": [
    {
     "data": {
      "image/png": "[encoded data removed]",
      "text/plain": [
       "<Figure size 720x360 with 1 Axes>"
      ]
     },
     "metadata": {
      "needs_background": "light"
     },
     "output_type": "display_data"
    }
   ],
   "source": [
    "plt.figure(figsize=(10,5))\n",
    "sns.countplot(x='Month', data= border_crossings,color='slategrey')\n",
    "plt.show()"
   ]
  },
  {
   "cell_type": "code",
   "execution_count": 34,
   "id": "97dddb0e",
   "metadata": {},
   "outputs": [
    {
     "data": {
      "image/png": "[encoded data removed]",
      "text/plain": [
       "<Figure size 720x1080 with 1 Axes>"
      ]
     },
     "metadata": {
      "needs_background": "light"
     },
     "output_type": "display_data"
    }
   ],
   "source": [
    "plt.figure(figsize=(10,15))\n",
    "sns.countplot(y='Year', data= border_crossings,color='slategrey')\n",
    "plt.show()"
   ]
  }
 ],
 "metadata": {
  "kernelspec": {
   "display_name": "Python 3 (ipykernel)",
   "language": "python",
   "name": "python3"
  },
  "language_info": {
   "codemirror_mode": {
    "name": "ipython",
    "version": 3
   },
   "file_extension": ".py",
   "mimetype": "text/x-python",
   "name": "python",
   "nbconvert_exporter": "python",
   "pygments_lexer": "ipython3",
   "version": "3.9.12"
  }
 },
 "nbformat": 4,
 "nbformat_minor": 5
}
